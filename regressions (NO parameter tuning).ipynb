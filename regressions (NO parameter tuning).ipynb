{
 "cells": [
  {
   "cell_type": "code",
   "execution_count": 1,
   "metadata": {},
   "outputs": [],
   "source": [
    "import pandas as pd \n",
    "import numpy as np  \n",
    "import matplotlib.pyplot as plt  \n",
    "import seaborn as sns\n",
    "from sklearn.model_selection import train_test_split \n",
    "from sklearn.linear_model import LinearRegression"
   ]
  },
  {
   "cell_type": "code",
   "execution_count": 2,
   "metadata": {},
   "outputs": [
    {
     "data": {
      "text/html": [
       "<div>\n",
       "<style scoped>\n",
       "    .dataframe tbody tr th:only-of-type {\n",
       "        vertical-align: middle;\n",
       "    }\n",
       "\n",
       "    .dataframe tbody tr th {\n",
       "        vertical-align: top;\n",
       "    }\n",
       "\n",
       "    .dataframe thead th {\n",
       "        text-align: right;\n",
       "    }\n",
       "</style>\n",
       "<table border=\"1\" class=\"dataframe\">\n",
       "  <thead>\n",
       "    <tr style=\"text-align: right;\">\n",
       "      <th></th>\n",
       "      <th>title</th>\n",
       "      <th>year</th>\n",
       "      <th>country_1</th>\n",
       "      <th>country_2</th>\n",
       "      <th>country_3</th>\n",
       "      <th>language</th>\n",
       "      <th>duration</th>\n",
       "      <th>genre_1</th>\n",
       "      <th>genre_2</th>\n",
       "      <th>genre_3</th>\n",
       "      <th>...</th>\n",
       "      <th>votes_18-30yrs</th>\n",
       "      <th>avg_rating_30-45yrs</th>\n",
       "      <th>votes_30-45yrs</th>\n",
       "      <th>avg_rating_&gt;45yrs</th>\n",
       "      <th>votes_&gt;45yrs</th>\n",
       "      <th>positive_votes</th>\n",
       "      <th>neutral_votes</th>\n",
       "      <th>negative_votes</th>\n",
       "      <th>percentage_of_positive_reviews</th>\n",
       "      <th>overall_eval</th>\n",
       "    </tr>\n",
       "  </thead>\n",
       "  <tbody>\n",
       "    <tr>\n",
       "      <th>0</th>\n",
       "      <td>Psycho</td>\n",
       "      <td>1960</td>\n",
       "      <td>USA</td>\n",
       "      <td>NaN</td>\n",
       "      <td>NaN</td>\n",
       "      <td>English</td>\n",
       "      <td>109</td>\n",
       "      <td>Horror</td>\n",
       "      <td>Mystery</td>\n",
       "      <td>Thriller</td>\n",
       "      <td>...</td>\n",
       "      <td>130264.0</td>\n",
       "      <td>8.4</td>\n",
       "      <td>200243.0</td>\n",
       "      <td>8.5</td>\n",
       "      <td>70585.0</td>\n",
       "      <td>509541</td>\n",
       "      <td>37238</td>\n",
       "      <td>8448</td>\n",
       "      <td>0.92</td>\n",
       "      <td>1</td>\n",
       "    </tr>\n",
       "    <tr>\n",
       "      <th>1</th>\n",
       "      <td>Spartacus</td>\n",
       "      <td>1960</td>\n",
       "      <td>USA</td>\n",
       "      <td>NaN</td>\n",
       "      <td>NaN</td>\n",
       "      <td>English</td>\n",
       "      <td>197</td>\n",
       "      <td>Adventure</td>\n",
       "      <td>Biography</td>\n",
       "      <td>Drama</td>\n",
       "      <td>...</td>\n",
       "      <td>16670.0</td>\n",
       "      <td>7.8</td>\n",
       "      <td>49635.0</td>\n",
       "      <td>8.0</td>\n",
       "      <td>23509.0</td>\n",
       "      <td>101184</td>\n",
       "      <td>12075</td>\n",
       "      <td>2545</td>\n",
       "      <td>0.87</td>\n",
       "      <td>1</td>\n",
       "    </tr>\n",
       "    <tr>\n",
       "      <th>2</th>\n",
       "      <td>Swiss Family Robinson</td>\n",
       "      <td>1960</td>\n",
       "      <td>USA</td>\n",
       "      <td>NaN</td>\n",
       "      <td>NaN</td>\n",
       "      <td>English</td>\n",
       "      <td>126</td>\n",
       "      <td>Adventure</td>\n",
       "      <td>Family</td>\n",
       "      <td>NaN</td>\n",
       "      <td>...</td>\n",
       "      <td>1555.0</td>\n",
       "      <td>7.2</td>\n",
       "      <td>4841.0</td>\n",
       "      <td>7.1</td>\n",
       "      <td>3165.0</td>\n",
       "      <td>9370</td>\n",
       "      <td>2922</td>\n",
       "      <td>305</td>\n",
       "      <td>0.74</td>\n",
       "      <td>1</td>\n",
       "    </tr>\n",
       "    <tr>\n",
       "      <th>3</th>\n",
       "      <td>One Hundred and One Dalmatians</td>\n",
       "      <td>1961</td>\n",
       "      <td>USA</td>\n",
       "      <td>NaN</td>\n",
       "      <td>NaN</td>\n",
       "      <td>English</td>\n",
       "      <td>79</td>\n",
       "      <td>Animation</td>\n",
       "      <td>Adventure</td>\n",
       "      <td>Comedy</td>\n",
       "      <td>...</td>\n",
       "      <td>45975.0</td>\n",
       "      <td>7.1</td>\n",
       "      <td>49250.0</td>\n",
       "      <td>7.3</td>\n",
       "      <td>11390.0</td>\n",
       "      <td>108703</td>\n",
       "      <td>31021</td>\n",
       "      <td>1998</td>\n",
       "      <td>0.77</td>\n",
       "      <td>1</td>\n",
       "    </tr>\n",
       "    <tr>\n",
       "      <th>4</th>\n",
       "      <td>Une femme est une femme</td>\n",
       "      <td>1961</td>\n",
       "      <td>France</td>\n",
       "      <td>Italy</td>\n",
       "      <td>NaN</td>\n",
       "      <td>French</td>\n",
       "      <td>85</td>\n",
       "      <td>Comedy</td>\n",
       "      <td>Drama</td>\n",
       "      <td>Romance</td>\n",
       "      <td>...</td>\n",
       "      <td>3760.0</td>\n",
       "      <td>7.5</td>\n",
       "      <td>5383.0</td>\n",
       "      <td>6.9</td>\n",
       "      <td>1789.0</td>\n",
       "      <td>10898</td>\n",
       "      <td>2362</td>\n",
       "      <td>424</td>\n",
       "      <td>0.80</td>\n",
       "      <td>1</td>\n",
       "    </tr>\n",
       "    <tr>\n",
       "      <th>...</th>\n",
       "      <td>...</td>\n",
       "      <td>...</td>\n",
       "      <td>...</td>\n",
       "      <td>...</td>\n",
       "      <td>...</td>\n",
       "      <td>...</td>\n",
       "      <td>...</td>\n",
       "      <td>...</td>\n",
       "      <td>...</td>\n",
       "      <td>...</td>\n",
       "      <td>...</td>\n",
       "      <td>...</td>\n",
       "      <td>...</td>\n",
       "      <td>...</td>\n",
       "      <td>...</td>\n",
       "      <td>...</td>\n",
       "      <td>...</td>\n",
       "      <td>...</td>\n",
       "      <td>...</td>\n",
       "      <td>...</td>\n",
       "      <td>...</td>\n",
       "    </tr>\n",
       "    <tr>\n",
       "      <th>4143</th>\n",
       "      <td>Captive State</td>\n",
       "      <td>2019</td>\n",
       "      <td>USA</td>\n",
       "      <td>NaN</td>\n",
       "      <td>NaN</td>\n",
       "      <td>English</td>\n",
       "      <td>109</td>\n",
       "      <td>Drama</td>\n",
       "      <td>Sci-Fi</td>\n",
       "      <td>Thriller</td>\n",
       "      <td>...</td>\n",
       "      <td>10564.0</td>\n",
       "      <td>6.0</td>\n",
       "      <td>15809.0</td>\n",
       "      <td>6.0</td>\n",
       "      <td>3195.0</td>\n",
       "      <td>27819</td>\n",
       "      <td>10008</td>\n",
       "      <td>2489</td>\n",
       "      <td>0.69</td>\n",
       "      <td>1</td>\n",
       "    </tr>\n",
       "    <tr>\n",
       "      <th>4144</th>\n",
       "      <td>The Angry Birds Movie 2</td>\n",
       "      <td>2019</td>\n",
       "      <td>Finland</td>\n",
       "      <td>USA</td>\n",
       "      <td>NaN</td>\n",
       "      <td>English</td>\n",
       "      <td>97</td>\n",
       "      <td>Animation</td>\n",
       "      <td>Adventure</td>\n",
       "      <td>Comedy</td>\n",
       "      <td>...</td>\n",
       "      <td>1945.0</td>\n",
       "      <td>6.3</td>\n",
       "      <td>2891.0</td>\n",
       "      <td>6.2</td>\n",
       "      <td>624.0</td>\n",
       "      <td>4878</td>\n",
       "      <td>3349</td>\n",
       "      <td>569</td>\n",
       "      <td>0.55</td>\n",
       "      <td>0</td>\n",
       "    </tr>\n",
       "    <tr>\n",
       "      <th>4145</th>\n",
       "      <td>The Lion King</td>\n",
       "      <td>2019</td>\n",
       "      <td>USA</td>\n",
       "      <td>NaN</td>\n",
       "      <td>NaN</td>\n",
       "      <td>English</td>\n",
       "      <td>118</td>\n",
       "      <td>Animation</td>\n",
       "      <td>Adventure</td>\n",
       "      <td>Drama</td>\n",
       "      <td>...</td>\n",
       "      <td>38746.0</td>\n",
       "      <td>6.9</td>\n",
       "      <td>37888.0</td>\n",
       "      <td>7.0</td>\n",
       "      <td>6767.0</td>\n",
       "      <td>94591</td>\n",
       "      <td>31838</td>\n",
       "      <td>8847</td>\n",
       "      <td>0.70</td>\n",
       "      <td>1</td>\n",
       "    </tr>\n",
       "    <tr>\n",
       "      <th>4146</th>\n",
       "      <td>The Kitchen</td>\n",
       "      <td>2019</td>\n",
       "      <td>USA</td>\n",
       "      <td>NaN</td>\n",
       "      <td>NaN</td>\n",
       "      <td>English</td>\n",
       "      <td>102</td>\n",
       "      <td>Action</td>\n",
       "      <td>Crime</td>\n",
       "      <td>Drama</td>\n",
       "      <td>...</td>\n",
       "      <td>1013.0</td>\n",
       "      <td>5.2</td>\n",
       "      <td>1813.0</td>\n",
       "      <td>5.6</td>\n",
       "      <td>1014.0</td>\n",
       "      <td>1812</td>\n",
       "      <td>2669</td>\n",
       "      <td>1311</td>\n",
       "      <td>0.31</td>\n",
       "      <td>0</td>\n",
       "    </tr>\n",
       "    <tr>\n",
       "      <th>4147</th>\n",
       "      <td>Playing with Fire</td>\n",
       "      <td>2019</td>\n",
       "      <td>USA</td>\n",
       "      <td>NaN</td>\n",
       "      <td>NaN</td>\n",
       "      <td>English</td>\n",
       "      <td>96</td>\n",
       "      <td>Comedy</td>\n",
       "      <td>Family</td>\n",
       "      <td>NaN</td>\n",
       "      <td>...</td>\n",
       "      <td>180.0</td>\n",
       "      <td>4.7</td>\n",
       "      <td>313.0</td>\n",
       "      <td>4.8</td>\n",
       "      <td>153.0</td>\n",
       "      <td>347</td>\n",
       "      <td>359</td>\n",
       "      <td>361</td>\n",
       "      <td>0.33</td>\n",
       "      <td>0</td>\n",
       "    </tr>\n",
       "  </tbody>\n",
       "</table>\n",
       "<p>4148 rows × 44 columns</p>\n",
       "</div>"
      ],
      "text/plain": [
       "                               title  year country_1 country_2 country_3  \\\n",
       "0                             Psycho  1960       USA       NaN       NaN   \n",
       "1                          Spartacus  1960       USA       NaN       NaN   \n",
       "2              Swiss Family Robinson  1960       USA       NaN       NaN   \n",
       "3     One Hundred and One Dalmatians  1961       USA       NaN       NaN   \n",
       "4            Une femme est une femme  1961    France     Italy       NaN   \n",
       "...                              ...   ...       ...       ...       ...   \n",
       "4143                   Captive State  2019       USA       NaN       NaN   \n",
       "4144         The Angry Birds Movie 2  2019   Finland       USA       NaN   \n",
       "4145                   The Lion King  2019       USA       NaN       NaN   \n",
       "4146                     The Kitchen  2019       USA       NaN       NaN   \n",
       "4147               Playing with Fire  2019       USA       NaN       NaN   \n",
       "\n",
       "     language  duration    genre_1     genre_2    genre_3  ... votes_18-30yrs  \\\n",
       "0     English       109     Horror     Mystery   Thriller  ...       130264.0   \n",
       "1     English       197  Adventure   Biography      Drama  ...        16670.0   \n",
       "2     English       126  Adventure      Family        NaN  ...         1555.0   \n",
       "3     English        79  Animation   Adventure     Comedy  ...        45975.0   \n",
       "4      French        85     Comedy       Drama    Romance  ...         3760.0   \n",
       "...       ...       ...        ...         ...        ...  ...            ...   \n",
       "4143  English       109      Drama      Sci-Fi   Thriller  ...        10564.0   \n",
       "4144  English        97  Animation   Adventure     Comedy  ...         1945.0   \n",
       "4145  English       118  Animation   Adventure      Drama  ...        38746.0   \n",
       "4146  English       102     Action       Crime      Drama  ...         1013.0   \n",
       "4147  English        96     Comedy      Family        NaN  ...          180.0   \n",
       "\n",
       "     avg_rating_30-45yrs votes_30-45yrs avg_rating_>45yrs votes_>45yrs  \\\n",
       "0                    8.4       200243.0               8.5      70585.0   \n",
       "1                    7.8        49635.0               8.0      23509.0   \n",
       "2                    7.2         4841.0               7.1       3165.0   \n",
       "3                    7.1        49250.0               7.3      11390.0   \n",
       "4                    7.5         5383.0               6.9       1789.0   \n",
       "...                  ...            ...               ...          ...   \n",
       "4143                 6.0        15809.0               6.0       3195.0   \n",
       "4144                 6.3         2891.0               6.2        624.0   \n",
       "4145                 6.9        37888.0               7.0       6767.0   \n",
       "4146                 5.2         1813.0               5.6       1014.0   \n",
       "4147                 4.7          313.0               4.8        153.0   \n",
       "\n",
       "     positive_votes neutral_votes negative_votes  \\\n",
       "0            509541         37238           8448   \n",
       "1            101184         12075           2545   \n",
       "2              9370          2922            305   \n",
       "3            108703         31021           1998   \n",
       "4             10898          2362            424   \n",
       "...             ...           ...            ...   \n",
       "4143          27819         10008           2489   \n",
       "4144           4878          3349            569   \n",
       "4145          94591         31838           8847   \n",
       "4146           1812          2669           1311   \n",
       "4147            347           359            361   \n",
       "\n",
       "     percentage_of_positive_reviews  overall_eval  \n",
       "0                              0.92             1  \n",
       "1                              0.87             1  \n",
       "2                              0.74             1  \n",
       "3                              0.77             1  \n",
       "4                              0.80             1  \n",
       "...                             ...           ...  \n",
       "4143                           0.69             1  \n",
       "4144                           0.55             0  \n",
       "4145                           0.70             1  \n",
       "4146                           0.31             0  \n",
       "4147                           0.33             0  \n",
       "\n",
       "[4148 rows x 44 columns]"
      ]
     },
     "execution_count": 2,
     "metadata": {},
     "output_type": "execute_result"
    }
   ],
   "source": [
    "df = pd.read_csv('complete_data.csv')\n",
    "df = df.drop(columns = ['Unnamed: 0'])\n",
    "df"
   ]
  },
  {
   "cell_type": "markdown",
   "metadata": {},
   "source": [
    "# Model 1"
   ]
  },
  {
   "cell_type": "code",
   "execution_count": 7,
   "metadata": {},
   "outputs": [
    {
     "data": {
      "text/html": [
       "<div>\n",
       "<style scoped>\n",
       "    .dataframe tbody tr th:only-of-type {\n",
       "        vertical-align: middle;\n",
       "    }\n",
       "\n",
       "    .dataframe tbody tr th {\n",
       "        vertical-align: top;\n",
       "    }\n",
       "\n",
       "    .dataframe thead th {\n",
       "        text-align: right;\n",
       "    }\n",
       "</style>\n",
       "<table border=\"1\" class=\"dataframe\">\n",
       "  <thead>\n",
       "    <tr style=\"text-align: right;\">\n",
       "      <th></th>\n",
       "      <th>actor_1</th>\n",
       "      <th>listing_1</th>\n",
       "      <th>actor_2</th>\n",
       "      <th>listing_2</th>\n",
       "      <th>actor_3</th>\n",
       "      <th>listing_3</th>\n",
       "    </tr>\n",
       "  </thead>\n",
       "  <tbody>\n",
       "    <tr>\n",
       "      <th>4128</th>\n",
       "      <td>Haley Lu Richardson</td>\n",
       "      <td>D</td>\n",
       "      <td>Cole Sprouse</td>\n",
       "      <td>D</td>\n",
       "      <td>Moises Arias</td>\n",
       "      <td>D</td>\n",
       "    </tr>\n",
       "    <tr>\n",
       "      <th>4129</th>\n",
       "      <td>Zachary Levi</td>\n",
       "      <td>C</td>\n",
       "      <td>Mark Strong</td>\n",
       "      <td>C</td>\n",
       "      <td>Asher Angel</td>\n",
       "      <td>D</td>\n",
       "    </tr>\n",
       "    <tr>\n",
       "      <th>4130</th>\n",
       "      <td>Keanu Reeves</td>\n",
       "      <td>A</td>\n",
       "      <td>Halle Berry</td>\n",
       "      <td>B</td>\n",
       "      <td>Ian McShane</td>\n",
       "      <td>B</td>\n",
       "    </tr>\n",
       "    <tr>\n",
       "      <th>4131</th>\n",
       "      <td>Emma Thompson</td>\n",
       "      <td>A</td>\n",
       "      <td>Mindy Kaling</td>\n",
       "      <td>B</td>\n",
       "      <td>John Lithgow</td>\n",
       "      <td>D</td>\n",
       "    </tr>\n",
       "    <tr>\n",
       "      <th>4132</th>\n",
       "      <td>Jay Baruchel</td>\n",
       "      <td>B</td>\n",
       "      <td>America Ferrera</td>\n",
       "      <td>D</td>\n",
       "      <td>F. Murray Abraham</td>\n",
       "      <td>D</td>\n",
       "    </tr>\n",
       "    <tr>\n",
       "      <th>4133</th>\n",
       "      <td>Constance Wu</td>\n",
       "      <td>D</td>\n",
       "      <td>Jennifer Lopez</td>\n",
       "      <td>B</td>\n",
       "      <td>Julia Stiles</td>\n",
       "      <td>D</td>\n",
       "    </tr>\n",
       "    <tr>\n",
       "      <th>4134</th>\n",
       "      <td>Ewan McGregor</td>\n",
       "      <td>A</td>\n",
       "      <td>Rebecca Ferguson</td>\n",
       "      <td>B</td>\n",
       "      <td>Kyliegh Curran</td>\n",
       "      <td>D</td>\n",
       "    </tr>\n",
       "    <tr>\n",
       "      <th>4135</th>\n",
       "      <td>Nicholas Hoult</td>\n",
       "      <td>D</td>\n",
       "      <td>Al Bollands</td>\n",
       "      <td>D</td>\n",
       "      <td>Kallum Tolkien</td>\n",
       "      <td>D</td>\n",
       "    </tr>\n",
       "    <tr>\n",
       "      <th>4136</th>\n",
       "      <td>Rosa Salazar</td>\n",
       "      <td>D</td>\n",
       "      <td>Christoph Waltz</td>\n",
       "      <td>B</td>\n",
       "      <td>Jennifer Connelly</td>\n",
       "      <td>C</td>\n",
       "    </tr>\n",
       "    <tr>\n",
       "      <th>4137</th>\n",
       "      <td>Rebel Wilson</td>\n",
       "      <td>B</td>\n",
       "      <td>Liam Hemsworth</td>\n",
       "      <td>D</td>\n",
       "      <td>Adam Devine</td>\n",
       "      <td>D</td>\n",
       "    </tr>\n",
       "    <tr>\n",
       "      <th>4138</th>\n",
       "      <td>Will Smith</td>\n",
       "      <td>A</td>\n",
       "      <td>Mena Massoud</td>\n",
       "      <td>C</td>\n",
       "      <td>Naomi Scott</td>\n",
       "      <td>B</td>\n",
       "    </tr>\n",
       "    <tr>\n",
       "      <th>4139</th>\n",
       "      <td>Liam Neeson</td>\n",
       "      <td>A</td>\n",
       "      <td>Laura Dern</td>\n",
       "      <td>D</td>\n",
       "      <td>Micheál Richardson</td>\n",
       "      <td>D</td>\n",
       "    </tr>\n",
       "    <tr>\n",
       "      <th>4140</th>\n",
       "      <td>Ryan Reynolds</td>\n",
       "      <td>A</td>\n",
       "      <td>Justice Smith</td>\n",
       "      <td>D</td>\n",
       "      <td>Kathryn Newton</td>\n",
       "      <td>D</td>\n",
       "    </tr>\n",
       "    <tr>\n",
       "      <th>4141</th>\n",
       "      <td>Taylor Russell</td>\n",
       "      <td>D</td>\n",
       "      <td>Logan Miller</td>\n",
       "      <td>D</td>\n",
       "      <td>Jay Ellis</td>\n",
       "      <td>D</td>\n",
       "    </tr>\n",
       "    <tr>\n",
       "      <th>4142</th>\n",
       "      <td>Gina Rodriguez</td>\n",
       "      <td>C</td>\n",
       "      <td>Thomas Dekker</td>\n",
       "      <td>D</td>\n",
       "      <td>Vivian Chan</td>\n",
       "      <td>D</td>\n",
       "    </tr>\n",
       "    <tr>\n",
       "      <th>4143</th>\n",
       "      <td>John Goodman</td>\n",
       "      <td>A</td>\n",
       "      <td>Ashton Sanders</td>\n",
       "      <td>D</td>\n",
       "      <td>Jonathan Majors</td>\n",
       "      <td>D</td>\n",
       "    </tr>\n",
       "    <tr>\n",
       "      <th>4144</th>\n",
       "      <td>Jason Sudeikis</td>\n",
       "      <td>B</td>\n",
       "      <td>Josh Gad</td>\n",
       "      <td>A</td>\n",
       "      <td>Leslie Jones</td>\n",
       "      <td>D</td>\n",
       "    </tr>\n",
       "    <tr>\n",
       "      <th>4145</th>\n",
       "      <td>Chiwetel Ejiofor</td>\n",
       "      <td>A</td>\n",
       "      <td>John Oliver</td>\n",
       "      <td>B</td>\n",
       "      <td>James Earl Jones</td>\n",
       "      <td>B</td>\n",
       "    </tr>\n",
       "    <tr>\n",
       "      <th>4146</th>\n",
       "      <td>Melissa McCarthy</td>\n",
       "      <td>B</td>\n",
       "      <td>Tiffany Haddish</td>\n",
       "      <td>C</td>\n",
       "      <td>Elisabeth Moss</td>\n",
       "      <td>D</td>\n",
       "    </tr>\n",
       "    <tr>\n",
       "      <th>4147</th>\n",
       "      <td>John Cena</td>\n",
       "      <td>B</td>\n",
       "      <td>Keegan-Michael Key</td>\n",
       "      <td>A</td>\n",
       "      <td>John Leguizamo</td>\n",
       "      <td>A</td>\n",
       "    </tr>\n",
       "  </tbody>\n",
       "</table>\n",
       "</div>"
      ],
      "text/plain": [
       "                  actor_1 listing_1             actor_2 listing_2  \\\n",
       "4128  Haley Lu Richardson         D        Cole Sprouse         D   \n",
       "4129         Zachary Levi         C         Mark Strong         C   \n",
       "4130         Keanu Reeves         A         Halle Berry         B   \n",
       "4131        Emma Thompson         A        Mindy Kaling         B   \n",
       "4132         Jay Baruchel         B     America Ferrera         D   \n",
       "4133         Constance Wu         D      Jennifer Lopez         B   \n",
       "4134        Ewan McGregor         A    Rebecca Ferguson         B   \n",
       "4135       Nicholas Hoult         D         Al Bollands         D   \n",
       "4136         Rosa Salazar         D     Christoph Waltz         B   \n",
       "4137         Rebel Wilson         B      Liam Hemsworth         D   \n",
       "4138           Will Smith         A        Mena Massoud         C   \n",
       "4139          Liam Neeson         A          Laura Dern         D   \n",
       "4140        Ryan Reynolds         A       Justice Smith         D   \n",
       "4141       Taylor Russell         D        Logan Miller         D   \n",
       "4142       Gina Rodriguez         C       Thomas Dekker         D   \n",
       "4143         John Goodman         A      Ashton Sanders         D   \n",
       "4144       Jason Sudeikis         B            Josh Gad         A   \n",
       "4145     Chiwetel Ejiofor         A         John Oliver         B   \n",
       "4146     Melissa McCarthy         B     Tiffany Haddish         C   \n",
       "4147            John Cena         B  Keegan-Michael Key         A   \n",
       "\n",
       "                 actor_3 listing_3  \n",
       "4128        Moises Arias         D  \n",
       "4129         Asher Angel         D  \n",
       "4130         Ian McShane         B  \n",
       "4131        John Lithgow         D  \n",
       "4132   F. Murray Abraham         D  \n",
       "4133        Julia Stiles         D  \n",
       "4134      Kyliegh Curran         D  \n",
       "4135      Kallum Tolkien         D  \n",
       "4136   Jennifer Connelly         C  \n",
       "4137         Adam Devine         D  \n",
       "4138         Naomi Scott         B  \n",
       "4139  Micheál Richardson         D  \n",
       "4140      Kathryn Newton         D  \n",
       "4141           Jay Ellis         D  \n",
       "4142         Vivian Chan         D  \n",
       "4143     Jonathan Majors         D  \n",
       "4144        Leslie Jones         D  \n",
       "4145    James Earl Jones         B  \n",
       "4146      Elisabeth Moss         D  \n",
       "4147      John Leguizamo         A  "
      ]
     },
     "execution_count": 7,
     "metadata": {},
     "output_type": "execute_result"
    }
   ],
   "source": [
    "df[['actor_1','listing_1','actor_2', 'listing_2','actor_3', 'listing_3']].tail(20)"
   ]
  },
  {
   "cell_type": "code",
   "execution_count": 147,
   "metadata": {},
   "outputs": [
    {
     "name": "stdout",
     "output_type": "stream",
     "text": [
      "(4148, 6) (4148,)\n"
     ]
    }
   ],
   "source": [
    "from sklearn.preprocessing import LabelEncoder, MinMaxScaler, StandardScaler\n",
    "labelencoder = LabelEncoder()\n",
    "X = df[['budget_USD', 'genre_1', 'country_1','listing_1', 'listing_2', 'listing_3']].apply(LabelEncoder().fit_transform)\n",
    "y = df['avg_user_rating']\n",
    "# y = df['IMDB_rating'].values.reshape(1,-1)\n",
    "print(X.shape, y.shape)"
   ]
  },
  {
   "cell_type": "code",
   "execution_count": 148,
   "metadata": {},
   "outputs": [],
   "source": [
    "# Train, Test, Split\n",
    "X_train, X_test, y_train, y_test = train_test_split(X, y, test_size=0.15, random_state=1)"
   ]
  },
  {
   "cell_type": "code",
   "execution_count": 149,
   "metadata": {},
   "outputs": [],
   "source": [
    "# Scaling x values\n",
    "X_scaler = MinMaxScaler().fit(X_train)\n",
    "X_train_scaled = X_scaler.transform(X_train)\n",
    "X_test_scaled = X_scaler.transform(X_test)"
   ]
  },
  {
   "cell_type": "code",
   "execution_count": 150,
   "metadata": {},
   "outputs": [
    {
     "data": {
      "text/plain": [
       "LinearRegression(copy_X=True, fit_intercept=False, n_jobs=None, normalize=False)"
      ]
     },
     "execution_count": 150,
     "metadata": {},
     "output_type": "execute_result"
    }
   ],
   "source": [
    "# Training regression model\n",
    "regressor1 = LinearRegression(fit_intercept = False)  \n",
    "regressor1.fit(X_train_scaled, y_train)"
   ]
  },
  {
   "cell_type": "code",
   "execution_count": 151,
   "metadata": {},
   "outputs": [
    {
     "data": {
      "text/html": [
       "<div>\n",
       "<style scoped>\n",
       "    .dataframe tbody tr th:only-of-type {\n",
       "        vertical-align: middle;\n",
       "    }\n",
       "\n",
       "    .dataframe tbody tr th {\n",
       "        vertical-align: top;\n",
       "    }\n",
       "\n",
       "    .dataframe thead th {\n",
       "        text-align: right;\n",
       "    }\n",
       "</style>\n",
       "<table border=\"1\" class=\"dataframe\">\n",
       "  <thead>\n",
       "    <tr style=\"text-align: right;\">\n",
       "      <th></th>\n",
       "      <th>Coefficient</th>\n",
       "    </tr>\n",
       "  </thead>\n",
       "  <tbody>\n",
       "    <tr>\n",
       "      <th>budget_USD</th>\n",
       "      <td>3.597668</td>\n",
       "    </tr>\n",
       "    <tr>\n",
       "      <th>genre_1</th>\n",
       "      <td>2.645793</td>\n",
       "    </tr>\n",
       "    <tr>\n",
       "      <th>country_1</th>\n",
       "      <td>2.146925</td>\n",
       "    </tr>\n",
       "    <tr>\n",
       "      <th>listing_1</th>\n",
       "      <td>0.528293</td>\n",
       "    </tr>\n",
       "    <tr>\n",
       "      <th>listing_2</th>\n",
       "      <td>0.736417</td>\n",
       "    </tr>\n",
       "    <tr>\n",
       "      <th>listing_3</th>\n",
       "      <td>1.262948</td>\n",
       "    </tr>\n",
       "  </tbody>\n",
       "</table>\n",
       "</div>"
      ],
      "text/plain": [
       "            Coefficient\n",
       "budget_USD     3.597668\n",
       "genre_1        2.645793\n",
       "country_1      2.146925\n",
       "listing_1      0.528293\n",
       "listing_2      0.736417\n",
       "listing_3      1.262948"
      ]
     },
     "execution_count": 151,
     "metadata": {},
     "output_type": "execute_result"
    }
   ],
   "source": [
    "coeff_df1 = pd.DataFrame(regressor1.coef_, X.columns, columns=['Coefficient'])  \n",
    "coeff_df1"
   ]
  },
  {
   "cell_type": "code",
   "execution_count": 152,
   "metadata": {},
   "outputs": [],
   "source": [
    "# Calculated y predicted \n",
    "y_pred1 = regressor1.predict(X_test_scaled)"
   ]
  },
  {
   "cell_type": "code",
   "execution_count": 153,
   "metadata": {},
   "outputs": [
    {
     "data": {
      "text/html": [
       "<div>\n",
       "<style scoped>\n",
       "    .dataframe tbody tr th:only-of-type {\n",
       "        vertical-align: middle;\n",
       "    }\n",
       "\n",
       "    .dataframe tbody tr th {\n",
       "        vertical-align: top;\n",
       "    }\n",
       "\n",
       "    .dataframe thead th {\n",
       "        text-align: right;\n",
       "    }\n",
       "</style>\n",
       "<table border=\"1\" class=\"dataframe\">\n",
       "  <thead>\n",
       "    <tr style=\"text-align: right;\">\n",
       "      <th></th>\n",
       "      <th>Actual</th>\n",
       "      <th>Predicted</th>\n",
       "    </tr>\n",
       "  </thead>\n",
       "  <tbody>\n",
       "    <tr>\n",
       "      <th>2572</th>\n",
       "      <td>6.7</td>\n",
       "      <td>6.396740</td>\n",
       "    </tr>\n",
       "    <tr>\n",
       "      <th>2527</th>\n",
       "      <td>6.4</td>\n",
       "      <td>7.224683</td>\n",
       "    </tr>\n",
       "    <tr>\n",
       "      <th>1497</th>\n",
       "      <td>5.7</td>\n",
       "      <td>4.819372</td>\n",
       "    </tr>\n",
       "    <tr>\n",
       "      <th>2740</th>\n",
       "      <td>6.8</td>\n",
       "      <td>6.754529</td>\n",
       "    </tr>\n",
       "    <tr>\n",
       "      <th>3776</th>\n",
       "      <td>6.3</td>\n",
       "      <td>5.602436</td>\n",
       "    </tr>\n",
       "  </tbody>\n",
       "</table>\n",
       "</div>"
      ],
      "text/plain": [
       "      Actual  Predicted\n",
       "2572     6.7   6.396740\n",
       "2527     6.4   7.224683\n",
       "1497     5.7   4.819372\n",
       "2740     6.8   6.754529\n",
       "3776     6.3   5.602436"
      ]
     },
     "execution_count": 153,
     "metadata": {},
     "output_type": "execute_result"
    }
   ],
   "source": [
    "# Predicted and Actual y Values\n",
    "predict_actual_df1 = pd.DataFrame({'Actual': y_test, 'Predicted': y_pred1})\n",
    "predict_actual_df1.head()"
   ]
  },
  {
   "cell_type": "code",
   "execution_count": 154,
   "metadata": {},
   "outputs": [
    {
     "data": {
      "text/html": [
       "<div>\n",
       "<style scoped>\n",
       "    .dataframe tbody tr th:only-of-type {\n",
       "        vertical-align: middle;\n",
       "    }\n",
       "\n",
       "    .dataframe tbody tr th {\n",
       "        vertical-align: top;\n",
       "    }\n",
       "\n",
       "    .dataframe thead th {\n",
       "        text-align: right;\n",
       "    }\n",
       "</style>\n",
       "<table border=\"1\" class=\"dataframe\">\n",
       "  <thead>\n",
       "    <tr style=\"text-align: right;\">\n",
       "      <th></th>\n",
       "      <th>Predicted</th>\n",
       "      <th>Actual</th>\n",
       "      <th>Error</th>\n",
       "    </tr>\n",
       "  </thead>\n",
       "  <tbody>\n",
       "    <tr>\n",
       "      <th>2572</th>\n",
       "      <td>6.396740</td>\n",
       "      <td>6.7</td>\n",
       "      <td>-0.303260</td>\n",
       "    </tr>\n",
       "    <tr>\n",
       "      <th>2527</th>\n",
       "      <td>7.224683</td>\n",
       "      <td>6.4</td>\n",
       "      <td>0.824683</td>\n",
       "    </tr>\n",
       "    <tr>\n",
       "      <th>1497</th>\n",
       "      <td>4.819372</td>\n",
       "      <td>5.7</td>\n",
       "      <td>-0.880628</td>\n",
       "    </tr>\n",
       "    <tr>\n",
       "      <th>2740</th>\n",
       "      <td>6.754529</td>\n",
       "      <td>6.8</td>\n",
       "      <td>-0.045471</td>\n",
       "    </tr>\n",
       "    <tr>\n",
       "      <th>3776</th>\n",
       "      <td>5.602436</td>\n",
       "      <td>6.3</td>\n",
       "      <td>-0.697564</td>\n",
       "    </tr>\n",
       "    <tr>\n",
       "      <th>2623</th>\n",
       "      <td>8.389694</td>\n",
       "      <td>4.0</td>\n",
       "      <td>4.389694</td>\n",
       "    </tr>\n",
       "    <tr>\n",
       "      <th>3911</th>\n",
       "      <td>6.908122</td>\n",
       "      <td>6.2</td>\n",
       "      <td>0.708122</td>\n",
       "    </tr>\n",
       "    <tr>\n",
       "      <th>2621</th>\n",
       "      <td>5.934185</td>\n",
       "      <td>6.3</td>\n",
       "      <td>-0.365815</td>\n",
       "    </tr>\n",
       "    <tr>\n",
       "      <th>3312</th>\n",
       "      <td>4.855782</td>\n",
       "      <td>7.0</td>\n",
       "      <td>-2.144218</td>\n",
       "    </tr>\n",
       "    <tr>\n",
       "      <th>2418</th>\n",
       "      <td>7.043474</td>\n",
       "      <td>5.8</td>\n",
       "      <td>1.243474</td>\n",
       "    </tr>\n",
       "  </tbody>\n",
       "</table>\n",
       "</div>"
      ],
      "text/plain": [
       "      Predicted  Actual     Error\n",
       "2572   6.396740     6.7 -0.303260\n",
       "2527   7.224683     6.4  0.824683\n",
       "1497   4.819372     5.7 -0.880628\n",
       "2740   6.754529     6.8 -0.045471\n",
       "3776   5.602436     6.3 -0.697564\n",
       "2623   8.389694     4.0  4.389694\n",
       "3911   6.908122     6.2  0.708122\n",
       "2621   5.934185     6.3 -0.365815\n",
       "3312   4.855782     7.0 -2.144218\n",
       "2418   7.043474     5.8  1.243474"
      ]
     },
     "execution_count": 154,
     "metadata": {},
     "output_type": "execute_result"
    }
   ],
   "source": [
    "# Predicted, Actual, Error\n",
    "predict_actual_error1 = pd.DataFrame({'Actual': y_test, 'Predicted': y_pred1,  \"Error\": y_pred1 - y_test})[[\"Predicted\", \"Actual\", \"Error\"]]\n",
    "predict_actual_error1.head(10)"
   ]
  },
  {
   "cell_type": "code",
   "execution_count": 155,
   "metadata": {},
   "outputs": [
    {
     "data": {
      "text/plain": [
       "-1.200965631922354"
      ]
     },
     "execution_count": 155,
     "metadata": {},
     "output_type": "execute_result"
    }
   ],
   "source": [
    "regressor1.score(X_test_scaled, y_test)"
   ]
  },
  {
   "cell_type": "code",
   "execution_count": 156,
   "metadata": {},
   "outputs": [
    {
     "name": "stdout",
     "output_type": "stream",
     "text": [
      "Mean Squared Error (MSE): 2.2707746371065967\n",
      "R-squared (R2 ): -1.200965631922354\n"
     ]
    }
   ],
   "source": [
    "from sklearn.metrics import mean_squared_error, r2_score\n",
    "# predicted = regressor1.predict(X_test_scaled)\n",
    "\n",
    "# Score the predictions with mse and r2\n",
    "mse = mean_squared_error(y_test, y_pred1)\n",
    "r2 = r2_score(y_test, y_pred1)\n",
    "\n",
    "print(f\"Mean Squared Error (MSE): {mse}\")\n",
    "print(f\"R-squared (R2 ): {r2}\")"
   ]
  },
  {
   "cell_type": "code",
   "execution_count": 157,
   "metadata": {},
   "outputs": [
    {
     "data": {
      "image/png": "[encoded data removed]",
      "text/plain": [
       "<Figure size 720x576 with 1 Axes>"
      ]
     },
     "metadata": {
      "needs_background": "light"
     },
     "output_type": "display_data"
    }
   ],
   "source": [
    "# Predicted VS. Actual Bar Chart\n",
    "predicted_actual_sample = predict_actual_df1.head(10)\n",
    "predicted_actual_sample.plot(kind='bar',figsize=(10,8))\n",
    "plt.grid(which='major', linestyle='-', linewidth='0.5', color='green')\n",
    "plt.grid(which='minor', linestyle=':', linewidth='0.5', color='black')\n",
    "plt.tick_params(axis='x',bottom=False,labelbottom=False)\n",
    "plt.savefig('imdb_rating_predactplot_npt.png')\n",
    "plt.show()"
   ]
  },
  {
   "cell_type": "code",
   "execution_count": 158,
   "metadata": {},
   "outputs": [
    {
     "data": {
      "text/html": [
       "<div>\n",
       "<style scoped>\n",
       "    .dataframe tbody tr th:only-of-type {\n",
       "        vertical-align: middle;\n",
       "    }\n",
       "\n",
       "    .dataframe tbody tr th {\n",
       "        vertical-align: top;\n",
       "    }\n",
       "\n",
       "    .dataframe thead th {\n",
       "        text-align: right;\n",
       "    }\n",
       "</style>\n",
       "<table border=\"1\" class=\"dataframe\">\n",
       "  <thead>\n",
       "    <tr style=\"text-align: right;\">\n",
       "      <th></th>\n",
       "      <th>budget_USD</th>\n",
       "      <th>genre_1</th>\n",
       "      <th>country_1</th>\n",
       "      <th>listing_1</th>\n",
       "      <th>listing_2</th>\n",
       "      <th>listing_3</th>\n",
       "    </tr>\n",
       "  </thead>\n",
       "  <tbody>\n",
       "    <tr>\n",
       "      <th>count</th>\n",
       "      <td>4148.000000</td>\n",
       "      <td>4148.000000</td>\n",
       "      <td>4148.000000</td>\n",
       "      <td>4148.000000</td>\n",
       "      <td>4148.000000</td>\n",
       "      <td>4148.000000</td>\n",
       "    </tr>\n",
       "    <tr>\n",
       "      <th>mean</th>\n",
       "      <td>304.960222</td>\n",
       "      <td>3.395853</td>\n",
       "      <td>41.158631</td>\n",
       "      <td>1.556172</td>\n",
       "      <td>2.198891</td>\n",
       "      <td>2.502411</td>\n",
       "    </tr>\n",
       "    <tr>\n",
       "      <th>std</th>\n",
       "      <td>111.779536</td>\n",
       "      <td>2.749400</td>\n",
       "      <td>11.711297</td>\n",
       "      <td>1.371267</td>\n",
       "      <td>1.177200</td>\n",
       "      <td>1.005528</td>\n",
       "    </tr>\n",
       "    <tr>\n",
       "      <th>min</th>\n",
       "      <td>0.000000</td>\n",
       "      <td>0.000000</td>\n",
       "      <td>0.000000</td>\n",
       "      <td>0.000000</td>\n",
       "      <td>0.000000</td>\n",
       "      <td>0.000000</td>\n",
       "    </tr>\n",
       "    <tr>\n",
       "      <th>25%</th>\n",
       "      <td>236.000000</td>\n",
       "      <td>0.000000</td>\n",
       "      <td>45.000000</td>\n",
       "      <td>0.000000</td>\n",
       "      <td>1.000000</td>\n",
       "      <td>3.000000</td>\n",
       "    </tr>\n",
       "    <tr>\n",
       "      <th>50%</th>\n",
       "      <td>329.000000</td>\n",
       "      <td>4.000000</td>\n",
       "      <td>46.000000</td>\n",
       "      <td>2.000000</td>\n",
       "      <td>3.000000</td>\n",
       "      <td>3.000000</td>\n",
       "    </tr>\n",
       "    <tr>\n",
       "      <th>75%</th>\n",
       "      <td>380.000000</td>\n",
       "      <td>5.000000</td>\n",
       "      <td>46.000000</td>\n",
       "      <td>3.000000</td>\n",
       "      <td>3.000000</td>\n",
       "      <td>3.000000</td>\n",
       "    </tr>\n",
       "    <tr>\n",
       "      <th>max</th>\n",
       "      <td>511.000000</td>\n",
       "      <td>16.000000</td>\n",
       "      <td>48.000000</td>\n",
       "      <td>3.000000</td>\n",
       "      <td>3.000000</td>\n",
       "      <td>3.000000</td>\n",
       "    </tr>\n",
       "  </tbody>\n",
       "</table>\n",
       "</div>"
      ],
      "text/plain": [
       "        budget_USD      genre_1    country_1    listing_1    listing_2  \\\n",
       "count  4148.000000  4148.000000  4148.000000  4148.000000  4148.000000   \n",
       "mean    304.960222     3.395853    41.158631     1.556172     2.198891   \n",
       "std     111.779536     2.749400    11.711297     1.371267     1.177200   \n",
       "min       0.000000     0.000000     0.000000     0.000000     0.000000   \n",
       "25%     236.000000     0.000000    45.000000     0.000000     1.000000   \n",
       "50%     329.000000     4.000000    46.000000     2.000000     3.000000   \n",
       "75%     380.000000     5.000000    46.000000     3.000000     3.000000   \n",
       "max     511.000000    16.000000    48.000000     3.000000     3.000000   \n",
       "\n",
       "         listing_3  \n",
       "count  4148.000000  \n",
       "mean      2.502411  \n",
       "std       1.005528  \n",
       "min       0.000000  \n",
       "25%       3.000000  \n",
       "50%       3.000000  \n",
       "75%       3.000000  \n",
       "max       3.000000  "
      ]
     },
     "execution_count": 158,
     "metadata": {},
     "output_type": "execute_result"
    }
   ],
   "source": [
    "X.describe()"
   ]
  },
  {
   "cell_type": "code",
   "execution_count": 161,
   "metadata": {},
   "outputs": [
    {
     "data": {
      "image/png": "[encoded data removed]",
      "text/plain": [
       "<Figure size 432x288 with 1 Axes>"
      ]
     },
     "metadata": {
      "needs_background": "light"
     },
     "output_type": "display_data"
    }
   ],
   "source": [
    "# Scatter plot\n",
    "plt.scatter(y_pred1, y_test)\n",
    "plt.ylabel('Observed')\n",
    "plt.xlabel('Predicted')\n",
    "plt.title(\"Predicted VS. Observed\")\n",
    "plt.savefig('imdb_rating_obvVSpred_npt.png')"
   ]
  },
  {
   "cell_type": "code",
   "execution_count": 163,
   "metadata": {},
   "outputs": [
    {
     "data": {
      "image/png": "[encoded data removed]",
      "text/plain": [
       "<Figure size 432x288 with 1 Axes>"
      ]
     },
     "metadata": {
      "needs_background": "light"
     },
     "output_type": "display_data"
    }
   ],
   "source": [
    "# Residuals\n",
    "plt.scatter(y_pred1, y_pred1-y_test, c='purple')\n",
    "plt.hlines(y=0, xmin=y_pred1.min(), xmax=y_pred1.max())\n",
    "plt.ylabel('Standardized Residuals')\n",
    "plt.xlabel('Predicted')\n",
    "plt.title(\"Residuals\")\n",
    "plt.savefig('imdb_rating_resid_npt.png')\n",
    "plt.show()"
   ]
  },
  {
   "cell_type": "markdown",
   "metadata": {},
   "source": [
    "# Model 2"
   ]
  },
  {
   "cell_type": "code",
   "execution_count": 164,
   "metadata": {},
   "outputs": [
    {
     "name": "stdout",
     "output_type": "stream",
     "text": [
      "(4148, 6) (4148,)\n"
     ]
    }
   ],
   "source": [
    "X = df[['budget_USD', 'genre_1', 'country_1','listing_1', 'listing_2', 'listing_3']].apply(LabelEncoder().fit_transform)\n",
    "y = df['metascore']\n",
    "# y = df['IMDB_rating'].values.reshape(1,-1)\n",
    "print(X.shape, y.shape)"
   ]
  },
  {
   "cell_type": "code",
   "execution_count": 165,
   "metadata": {},
   "outputs": [],
   "source": [
    "X_train, X_test, y_train, y_test = train_test_split(X, y, test_size=0.15, random_state=1)"
   ]
  },
  {
   "cell_type": "code",
   "execution_count": 166,
   "metadata": {},
   "outputs": [],
   "source": [
    "X_scaler = MinMaxScaler().fit(X_train)\n",
    "X_train_scaled = X_scaler.transform(X_train)\n",
    "X_test_scaled = X_scaler.transform(X_test)"
   ]
  },
  {
   "cell_type": "code",
   "execution_count": 167,
   "metadata": {},
   "outputs": [
    {
     "data": {
      "text/plain": [
       "LinearRegression(copy_X=True, fit_intercept=True, n_jobs=None, normalize=False)"
      ]
     },
     "execution_count": 167,
     "metadata": {},
     "output_type": "execute_result"
    }
   ],
   "source": [
    "regressor2 = LinearRegression()  \n",
    "regressor2.fit(X_train_scaled, y_train)"
   ]
  },
  {
   "cell_type": "code",
   "execution_count": 168,
   "metadata": {},
   "outputs": [
    {
     "data": {
      "text/html": [
       "<div>\n",
       "<style scoped>\n",
       "    .dataframe tbody tr th:only-of-type {\n",
       "        vertical-align: middle;\n",
       "    }\n",
       "\n",
       "    .dataframe tbody tr th {\n",
       "        vertical-align: top;\n",
       "    }\n",
       "\n",
       "    .dataframe thead th {\n",
       "        text-align: right;\n",
       "    }\n",
       "</style>\n",
       "<table border=\"1\" class=\"dataframe\">\n",
       "  <thead>\n",
       "    <tr style=\"text-align: right;\">\n",
       "      <th></th>\n",
       "      <th>Coefficient</th>\n",
       "    </tr>\n",
       "  </thead>\n",
       "  <tbody>\n",
       "    <tr>\n",
       "      <th>budget_USD</th>\n",
       "      <td>-20.525653</td>\n",
       "    </tr>\n",
       "    <tr>\n",
       "      <th>genre_1</th>\n",
       "      <td>0.015408</td>\n",
       "    </tr>\n",
       "    <tr>\n",
       "      <th>country_1</th>\n",
       "      <td>-5.327960</td>\n",
       "    </tr>\n",
       "    <tr>\n",
       "      <th>listing_1</th>\n",
       "      <td>-2.702053</td>\n",
       "    </tr>\n",
       "    <tr>\n",
       "      <th>listing_2</th>\n",
       "      <td>-4.229431</td>\n",
       "    </tr>\n",
       "    <tr>\n",
       "      <th>listing_3</th>\n",
       "      <td>-4.400357</td>\n",
       "    </tr>\n",
       "  </tbody>\n",
       "</table>\n",
       "</div>"
      ],
      "text/plain": [
       "            Coefficient\n",
       "budget_USD   -20.525653\n",
       "genre_1        0.015408\n",
       "country_1     -5.327960\n",
       "listing_1     -2.702053\n",
       "listing_2     -4.229431\n",
       "listing_3     -4.400357"
      ]
     },
     "execution_count": 168,
     "metadata": {},
     "output_type": "execute_result"
    }
   ],
   "source": [
    "coeff_df2 = pd.DataFrame(regressor2.coef_, X.columns, columns=['Coefficient'])  \n",
    "coeff_df2"
   ]
  },
  {
   "cell_type": "code",
   "execution_count": 169,
   "metadata": {},
   "outputs": [],
   "source": [
    "y_pred2 = regressor2.predict(X_test_scaled)"
   ]
  },
  {
   "cell_type": "code",
   "execution_count": 170,
   "metadata": {},
   "outputs": [
    {
     "data": {
      "text/html": [
       "<div>\n",
       "<style scoped>\n",
       "    .dataframe tbody tr th:only-of-type {\n",
       "        vertical-align: middle;\n",
       "    }\n",
       "\n",
       "    .dataframe tbody tr th {\n",
       "        vertical-align: top;\n",
       "    }\n",
       "\n",
       "    .dataframe thead th {\n",
       "        text-align: right;\n",
       "    }\n",
       "</style>\n",
       "<table border=\"1\" class=\"dataframe\">\n",
       "  <thead>\n",
       "    <tr style=\"text-align: right;\">\n",
       "      <th></th>\n",
       "      <th>Actual</th>\n",
       "      <th>Predicted</th>\n",
       "    </tr>\n",
       "  </thead>\n",
       "  <tbody>\n",
       "    <tr>\n",
       "      <th>2572</th>\n",
       "      <td>55.0</td>\n",
       "      <td>57.866804</td>\n",
       "    </tr>\n",
       "    <tr>\n",
       "      <th>2527</th>\n",
       "      <td>63.0</td>\n",
       "      <td>53.115195</td>\n",
       "    </tr>\n",
       "    <tr>\n",
       "      <th>1497</th>\n",
       "      <td>64.0</td>\n",
       "      <td>57.634354</td>\n",
       "    </tr>\n",
       "    <tr>\n",
       "      <th>2740</th>\n",
       "      <td>65.0</td>\n",
       "      <td>52.341278</td>\n",
       "    </tr>\n",
       "    <tr>\n",
       "      <th>3776</th>\n",
       "      <td>77.0</td>\n",
       "      <td>63.352278</td>\n",
       "    </tr>\n",
       "    <tr>\n",
       "      <th>...</th>\n",
       "      <td>...</td>\n",
       "      <td>...</td>\n",
       "    </tr>\n",
       "    <tr>\n",
       "      <th>2597</th>\n",
       "      <td>74.0</td>\n",
       "      <td>56.009561</td>\n",
       "    </tr>\n",
       "    <tr>\n",
       "      <th>4062</th>\n",
       "      <td>46.0</td>\n",
       "      <td>53.786258</td>\n",
       "    </tr>\n",
       "    <tr>\n",
       "      <th>110</th>\n",
       "      <td>58.0</td>\n",
       "      <td>58.453636</td>\n",
       "    </tr>\n",
       "    <tr>\n",
       "      <th>2494</th>\n",
       "      <td>37.0</td>\n",
       "      <td>58.367050</td>\n",
       "    </tr>\n",
       "    <tr>\n",
       "      <th>671</th>\n",
       "      <td>78.0</td>\n",
       "      <td>59.853866</td>\n",
       "    </tr>\n",
       "  </tbody>\n",
       "</table>\n",
       "<p>623 rows × 2 columns</p>\n",
       "</div>"
      ],
      "text/plain": [
       "      Actual  Predicted\n",
       "2572    55.0  57.866804\n",
       "2527    63.0  53.115195\n",
       "1497    64.0  57.634354\n",
       "2740    65.0  52.341278\n",
       "3776    77.0  63.352278\n",
       "...      ...        ...\n",
       "2597    74.0  56.009561\n",
       "4062    46.0  53.786258\n",
       "110     58.0  58.453636\n",
       "2494    37.0  58.367050\n",
       "671     78.0  59.853866\n",
       "\n",
       "[623 rows x 2 columns]"
      ]
     },
     "execution_count": 170,
     "metadata": {},
     "output_type": "execute_result"
    }
   ],
   "source": [
    "predict_actual_df2 = pd.DataFrame({'Actual': y_test, 'Predicted': y_pred2})\n",
    "predict_actual_df2"
   ]
  },
  {
   "cell_type": "code",
   "execution_count": 171,
   "metadata": {},
   "outputs": [
    {
     "data": {
      "text/html": [
       "<div>\n",
       "<style scoped>\n",
       "    .dataframe tbody tr th:only-of-type {\n",
       "        vertical-align: middle;\n",
       "    }\n",
       "\n",
       "    .dataframe tbody tr th {\n",
       "        vertical-align: top;\n",
       "    }\n",
       "\n",
       "    .dataframe thead th {\n",
       "        text-align: right;\n",
       "    }\n",
       "</style>\n",
       "<table border=\"1\" class=\"dataframe\">\n",
       "  <thead>\n",
       "    <tr style=\"text-align: right;\">\n",
       "      <th></th>\n",
       "      <th>Predicted</th>\n",
       "      <th>Actual</th>\n",
       "      <th>Error</th>\n",
       "    </tr>\n",
       "  </thead>\n",
       "  <tbody>\n",
       "    <tr>\n",
       "      <th>2572</th>\n",
       "      <td>57.866804</td>\n",
       "      <td>55.0</td>\n",
       "      <td>2.866804</td>\n",
       "    </tr>\n",
       "    <tr>\n",
       "      <th>2527</th>\n",
       "      <td>53.115195</td>\n",
       "      <td>63.0</td>\n",
       "      <td>-9.884805</td>\n",
       "    </tr>\n",
       "    <tr>\n",
       "      <th>1497</th>\n",
       "      <td>57.634354</td>\n",
       "      <td>64.0</td>\n",
       "      <td>-6.365646</td>\n",
       "    </tr>\n",
       "    <tr>\n",
       "      <th>2740</th>\n",
       "      <td>52.341278</td>\n",
       "      <td>65.0</td>\n",
       "      <td>-12.658722</td>\n",
       "    </tr>\n",
       "    <tr>\n",
       "      <th>3776</th>\n",
       "      <td>63.352278</td>\n",
       "      <td>77.0</td>\n",
       "      <td>-13.647722</td>\n",
       "    </tr>\n",
       "    <tr>\n",
       "      <th>2623</th>\n",
       "      <td>51.502482</td>\n",
       "      <td>22.0</td>\n",
       "      <td>29.502482</td>\n",
       "    </tr>\n",
       "    <tr>\n",
       "      <th>3911</th>\n",
       "      <td>55.233255</td>\n",
       "      <td>47.0</td>\n",
       "      <td>8.233255</td>\n",
       "    </tr>\n",
       "    <tr>\n",
       "      <th>2621</th>\n",
       "      <td>54.207132</td>\n",
       "      <td>46.0</td>\n",
       "      <td>8.207132</td>\n",
       "    </tr>\n",
       "    <tr>\n",
       "      <th>3312</th>\n",
       "      <td>62.908880</td>\n",
       "      <td>81.0</td>\n",
       "      <td>-18.091120</td>\n",
       "    </tr>\n",
       "    <tr>\n",
       "      <th>2418</th>\n",
       "      <td>53.296548</td>\n",
       "      <td>49.0</td>\n",
       "      <td>4.296548</td>\n",
       "    </tr>\n",
       "  </tbody>\n",
       "</table>\n",
       "</div>"
      ],
      "text/plain": [
       "      Predicted  Actual      Error\n",
       "2572  57.866804    55.0   2.866804\n",
       "2527  53.115195    63.0  -9.884805\n",
       "1497  57.634354    64.0  -6.365646\n",
       "2740  52.341278    65.0 -12.658722\n",
       "3776  63.352278    77.0 -13.647722\n",
       "2623  51.502482    22.0  29.502482\n",
       "3911  55.233255    47.0   8.233255\n",
       "2621  54.207132    46.0   8.207132\n",
       "3312  62.908880    81.0 -18.091120\n",
       "2418  53.296548    49.0   4.296548"
      ]
     },
     "execution_count": 171,
     "metadata": {},
     "output_type": "execute_result"
    }
   ],
   "source": [
    "predict_actual_error2 = pd.DataFrame({'Actual': y_test, 'Predicted': y_pred2,  \"Error\": y_pred2 - y_test})[[\"Predicted\", \"Actual\", \"Error\"]]\n",
    "predict_actual_error2.head(10)"
   ]
  },
  {
   "cell_type": "code",
   "execution_count": 172,
   "metadata": {},
   "outputs": [
    {
     "data": {
      "text/plain": [
       "0.031201660933121933"
      ]
     },
     "execution_count": 172,
     "metadata": {},
     "output_type": "execute_result"
    }
   ],
   "source": [
    "regressor2.score(X_test_scaled, y_test)"
   ]
  },
  {
   "cell_type": "code",
   "execution_count": 173,
   "metadata": {},
   "outputs": [
    {
     "name": "stdout",
     "output_type": "stream",
     "text": [
      "Mean Squared Error (MSE): 297.7427665164491\n",
      "R-squared (R2 ): 0.031201660933121933\n"
     ]
    }
   ],
   "source": [
    "# Score the predictions with mse and r2\n",
    "mse = mean_squared_error(y_test, y_pred2)\n",
    "r2 = r2_score(y_test, y_pred2)\n",
    "\n",
    "print(f\"Mean Squared Error (MSE): {mse}\")\n",
    "print(f\"R-squared (R2 ): {r2}\")"
   ]
  },
  {
   "cell_type": "code",
   "execution_count": 174,
   "metadata": {},
   "outputs": [
    {
     "data": {
      "image/png": "[encoded data removed]",
      "text/plain": [
       "<Figure size 720x576 with 1 Axes>"
      ]
     },
     "metadata": {
      "needs_background": "light"
     },
     "output_type": "display_data"
    }
   ],
   "source": [
    "predicted_actual_sample2 = predict_actual_df2.head(10)\n",
    "predicted_actual_sample2.plot(kind='bar',figsize=(10,8))\n",
    "plt.grid(which='major', linestyle='-', linewidth='0.5', color='green')\n",
    "plt.grid(which='minor', linestyle=':', linewidth='0.5', color='black')\n",
    "plt.tick_params(axis='x',bottom=False,labelbottom=False)\n",
    "plt.savefig('metascore_predactplot_npt.png')\n",
    "plt.show()"
   ]
  },
  {
   "cell_type": "code",
   "execution_count": 176,
   "metadata": {},
   "outputs": [
    {
     "data": {
      "image/png": "[encoded data removed]",
      "text/plain": [
       "<Figure size 432x288 with 1 Axes>"
      ]
     },
     "metadata": {
      "needs_background": "light"
     },
     "output_type": "display_data"
    }
   ],
   "source": [
    "plt.scatter(y_pred2,y_test)\n",
    "plt.ylabel('Observed')\n",
    "plt.xlabel('Predicted')\n",
    "plt.title(\"Predicted VS. Observed\")\n",
    "plt.savefig('metascore_obvVSpred_npt.png')"
   ]
  },
  {
   "cell_type": "code",
   "execution_count": 177,
   "metadata": {},
   "outputs": [
    {
     "data": {
      "image/png": "[encoded data removed]",
      "text/plain": [
       "<Figure size 432x288 with 1 Axes>"
      ]
     },
     "metadata": {
      "needs_background": "light"
     },
     "output_type": "display_data"
    }
   ],
   "source": [
    "# Residuals\n",
    "plt.scatter(y_pred2, y_pred2-y_test, c='purple')\n",
    "plt.hlines(y=0, xmin=y_pred2.min(), xmax=y_pred2.max())\n",
    "plt.ylabel('Standardized Residuals')\n",
    "plt.xlabel('Predicted')\n",
    "plt.title(\"Residuals\")\n",
    "plt.savefig('metascore_resid_npt.png')\n",
    "plt.show()"
   ]
  },
  {
   "cell_type": "markdown",
   "metadata": {},
   "source": [
    "# Model 3"
   ]
  },
  {
   "cell_type": "code",
   "execution_count": 178,
   "metadata": {},
   "outputs": [
    {
     "name": "stdout",
     "output_type": "stream",
     "text": [
      "(4148, 6) (4148,)\n"
     ]
    }
   ],
   "source": [
    "X = df[['budget_USD', 'genre_1', 'country_1','listing_1', 'listing_2', 'listing_3']].apply(LabelEncoder().fit_transform)\n",
    "y = df['worlwide_gross_income']\n",
    "# y = df['IMDB_rating'].values.reshape(1,-1)\n",
    "print(X.shape, y.shape)"
   ]
  },
  {
   "cell_type": "code",
   "execution_count": 179,
   "metadata": {},
   "outputs": [],
   "source": [
    "X_train, X_test, y_train, y_test = train_test_split(X, y, test_size=0.15, random_state=1)"
   ]
  },
  {
   "cell_type": "code",
   "execution_count": 180,
   "metadata": {},
   "outputs": [],
   "source": [
    "X_scaler = MinMaxScaler().fit(X_train)\n",
    "X_train_scaled = X_scaler.transform(X_train)\n",
    "X_test_scaled = X_scaler.transform(X_test)"
   ]
  },
  {
   "cell_type": "code",
   "execution_count": 181,
   "metadata": {},
   "outputs": [
    {
     "data": {
      "text/plain": [
       "LinearRegression(copy_X=True, fit_intercept=True, n_jobs=None, normalize=False)"
      ]
     },
     "execution_count": 181,
     "metadata": {},
     "output_type": "execute_result"
    }
   ],
   "source": [
    "#  Training model\n",
    "regressor = LinearRegression()  \n",
    "regressor.fit(X_train_scaled, y_train)"
   ]
  },
  {
   "cell_type": "code",
   "execution_count": 182,
   "metadata": {},
   "outputs": [
    {
     "data": {
      "text/html": [
       "<div>\n",
       "<style scoped>\n",
       "    .dataframe tbody tr th:only-of-type {\n",
       "        vertical-align: middle;\n",
       "    }\n",
       "\n",
       "    .dataframe tbody tr th {\n",
       "        vertical-align: top;\n",
       "    }\n",
       "\n",
       "    .dataframe thead th {\n",
       "        text-align: right;\n",
       "    }\n",
       "</style>\n",
       "<table border=\"1\" class=\"dataframe\">\n",
       "  <thead>\n",
       "    <tr style=\"text-align: right;\">\n",
       "      <th></th>\n",
       "      <th>Coefficient</th>\n",
       "    </tr>\n",
       "  </thead>\n",
       "  <tbody>\n",
       "    <tr>\n",
       "      <th>budget_USD</th>\n",
       "      <td>3.718719e+08</td>\n",
       "    </tr>\n",
       "    <tr>\n",
       "      <th>genre_1</th>\n",
       "      <td>-8.012916e+07</td>\n",
       "    </tr>\n",
       "    <tr>\n",
       "      <th>country_1</th>\n",
       "      <td>1.519807e+07</td>\n",
       "    </tr>\n",
       "    <tr>\n",
       "      <th>listing_1</th>\n",
       "      <td>-1.033763e+07</td>\n",
       "    </tr>\n",
       "    <tr>\n",
       "      <th>listing_2</th>\n",
       "      <td>-3.959984e+07</td>\n",
       "    </tr>\n",
       "    <tr>\n",
       "      <th>listing_3</th>\n",
       "      <td>-8.690927e+07</td>\n",
       "    </tr>\n",
       "  </tbody>\n",
       "</table>\n",
       "</div>"
      ],
      "text/plain": [
       "             Coefficient\n",
       "budget_USD  3.718719e+08\n",
       "genre_1    -8.012916e+07\n",
       "country_1   1.519807e+07\n",
       "listing_1  -1.033763e+07\n",
       "listing_2  -3.959984e+07\n",
       "listing_3  -8.690927e+07"
      ]
     },
     "execution_count": 182,
     "metadata": {},
     "output_type": "execute_result"
    }
   ],
   "source": [
    "# Getting regression coefficients\n",
    "coeff_df = pd.DataFrame(regressor.coef_, X.columns, columns=['Coefficient'])  \n",
    "coeff_df"
   ]
  },
  {
   "cell_type": "code",
   "execution_count": 183,
   "metadata": {},
   "outputs": [],
   "source": [
    "# Predicting y\n",
    "y_pred = regressor.predict(X_test_scaled)"
   ]
  },
  {
   "cell_type": "code",
   "execution_count": 184,
   "metadata": {},
   "outputs": [
    {
     "data": {
      "text/html": [
       "<div>\n",
       "<style scoped>\n",
       "    .dataframe tbody tr th:only-of-type {\n",
       "        vertical-align: middle;\n",
       "    }\n",
       "\n",
       "    .dataframe tbody tr th {\n",
       "        vertical-align: top;\n",
       "    }\n",
       "\n",
       "    .dataframe thead th {\n",
       "        text-align: right;\n",
       "    }\n",
       "</style>\n",
       "<table border=\"1\" class=\"dataframe\">\n",
       "  <thead>\n",
       "    <tr style=\"text-align: right;\">\n",
       "      <th></th>\n",
       "      <th>Actual</th>\n",
       "      <th>Predicted</th>\n",
       "    </tr>\n",
       "  </thead>\n",
       "  <tbody>\n",
       "    <tr>\n",
       "      <th>2572</th>\n",
       "      <td>102820008.0</td>\n",
       "      <td>1.736487e+08</td>\n",
       "    </tr>\n",
       "    <tr>\n",
       "      <th>2527</th>\n",
       "      <td>64616723.0</td>\n",
       "      <td>1.435094e+08</td>\n",
       "    </tr>\n",
       "    <tr>\n",
       "      <th>1497</th>\n",
       "      <td>68514844.0</td>\n",
       "      <td>2.727042e+08</td>\n",
       "    </tr>\n",
       "    <tr>\n",
       "      <th>2740</th>\n",
       "      <td>63782078.0</td>\n",
       "      <td>1.569435e+08</td>\n",
       "    </tr>\n",
       "    <tr>\n",
       "      <th>3776</th>\n",
       "      <td>27397655.0</td>\n",
       "      <td>1.198290e+08</td>\n",
       "    </tr>\n",
       "    <tr>\n",
       "      <th>...</th>\n",
       "      <td>...</td>\n",
       "      <td>...</td>\n",
       "    </tr>\n",
       "    <tr>\n",
       "      <th>2597</th>\n",
       "      <td>154026136.0</td>\n",
       "      <td>1.971686e+08</td>\n",
       "    </tr>\n",
       "    <tr>\n",
       "      <th>4062</th>\n",
       "      <td>50444358.0</td>\n",
       "      <td>7.705026e+07</td>\n",
       "    </tr>\n",
       "    <tr>\n",
       "      <th>110</th>\n",
       "      <td>46236000.0</td>\n",
       "      <td>6.675316e+07</td>\n",
       "    </tr>\n",
       "    <tr>\n",
       "      <th>2494</th>\n",
       "      <td>278346189.0</td>\n",
       "      <td>3.511805e+08</td>\n",
       "    </tr>\n",
       "    <tr>\n",
       "      <th>671</th>\n",
       "      <td>7993039.0</td>\n",
       "      <td>7.321848e+07</td>\n",
       "    </tr>\n",
       "  </tbody>\n",
       "</table>\n",
       "<p>623 rows × 2 columns</p>\n",
       "</div>"
      ],
      "text/plain": [
       "           Actual     Predicted\n",
       "2572  102820008.0  1.736487e+08\n",
       "2527   64616723.0  1.435094e+08\n",
       "1497   68514844.0  2.727042e+08\n",
       "2740   63782078.0  1.569435e+08\n",
       "3776   27397655.0  1.198290e+08\n",
       "...           ...           ...\n",
       "2597  154026136.0  1.971686e+08\n",
       "4062   50444358.0  7.705026e+07\n",
       "110    46236000.0  6.675316e+07\n",
       "2494  278346189.0  3.511805e+08\n",
       "671     7993039.0  7.321848e+07\n",
       "\n",
       "[623 rows x 2 columns]"
      ]
     },
     "execution_count": 184,
     "metadata": {},
     "output_type": "execute_result"
    }
   ],
   "source": [
    "# Predicted vs. Actual\n",
    "predict_actual_df = pd.DataFrame({'Actual': y_test, 'Predicted': y_pred})\n",
    "predict_actual_df"
   ]
  },
  {
   "cell_type": "code",
   "execution_count": 185,
   "metadata": {},
   "outputs": [
    {
     "data": {
      "text/html": [
       "<div>\n",
       "<style scoped>\n",
       "    .dataframe tbody tr th:only-of-type {\n",
       "        vertical-align: middle;\n",
       "    }\n",
       "\n",
       "    .dataframe tbody tr th {\n",
       "        vertical-align: top;\n",
       "    }\n",
       "\n",
       "    .dataframe thead th {\n",
       "        text-align: right;\n",
       "    }\n",
       "</style>\n",
       "<table border=\"1\" class=\"dataframe\">\n",
       "  <thead>\n",
       "    <tr style=\"text-align: right;\">\n",
       "      <th></th>\n",
       "      <th>Predicted</th>\n",
       "      <th>Actual</th>\n",
       "      <th>Error</th>\n",
       "    </tr>\n",
       "  </thead>\n",
       "  <tbody>\n",
       "    <tr>\n",
       "      <th>2572</th>\n",
       "      <td>1.736487e+08</td>\n",
       "      <td>102820008.0</td>\n",
       "      <td>7.082874e+07</td>\n",
       "    </tr>\n",
       "    <tr>\n",
       "      <th>2527</th>\n",
       "      <td>1.435094e+08</td>\n",
       "      <td>64616723.0</td>\n",
       "      <td>7.889272e+07</td>\n",
       "    </tr>\n",
       "    <tr>\n",
       "      <th>1497</th>\n",
       "      <td>2.727042e+08</td>\n",
       "      <td>68514844.0</td>\n",
       "      <td>2.041893e+08</td>\n",
       "    </tr>\n",
       "    <tr>\n",
       "      <th>2740</th>\n",
       "      <td>1.569435e+08</td>\n",
       "      <td>63782078.0</td>\n",
       "      <td>9.316144e+07</td>\n",
       "    </tr>\n",
       "    <tr>\n",
       "      <th>3776</th>\n",
       "      <td>1.198290e+08</td>\n",
       "      <td>27397655.0</td>\n",
       "      <td>9.243134e+07</td>\n",
       "    </tr>\n",
       "    <tr>\n",
       "      <th>2623</th>\n",
       "      <td>8.848265e+07</td>\n",
       "      <td>40136479.0</td>\n",
       "      <td>4.834617e+07</td>\n",
       "    </tr>\n",
       "    <tr>\n",
       "      <th>3911</th>\n",
       "      <td>4.584378e+07</td>\n",
       "      <td>6819044.0</td>\n",
       "      <td>3.902473e+07</td>\n",
       "    </tr>\n",
       "    <tr>\n",
       "      <th>2621</th>\n",
       "      <td>2.510294e+08</td>\n",
       "      <td>160078586.0</td>\n",
       "      <td>9.095080e+07</td>\n",
       "    </tr>\n",
       "    <tr>\n",
       "      <th>3312</th>\n",
       "      <td>2.539224e+08</td>\n",
       "      <td>19206513.0</td>\n",
       "      <td>2.347158e+08</td>\n",
       "    </tr>\n",
       "    <tr>\n",
       "      <th>2418</th>\n",
       "      <td>2.590414e+08</td>\n",
       "      <td>53998806.0</td>\n",
       "      <td>2.050426e+08</td>\n",
       "    </tr>\n",
       "  </tbody>\n",
       "</table>\n",
       "</div>"
      ],
      "text/plain": [
       "         Predicted       Actual         Error\n",
       "2572  1.736487e+08  102820008.0  7.082874e+07\n",
       "2527  1.435094e+08   64616723.0  7.889272e+07\n",
       "1497  2.727042e+08   68514844.0  2.041893e+08\n",
       "2740  1.569435e+08   63782078.0  9.316144e+07\n",
       "3776  1.198290e+08   27397655.0  9.243134e+07\n",
       "2623  8.848265e+07   40136479.0  4.834617e+07\n",
       "3911  4.584378e+07    6819044.0  3.902473e+07\n",
       "2621  2.510294e+08  160078586.0  9.095080e+07\n",
       "3312  2.539224e+08   19206513.0  2.347158e+08\n",
       "2418  2.590414e+08   53998806.0  2.050426e+08"
      ]
     },
     "execution_count": 185,
     "metadata": {},
     "output_type": "execute_result"
    }
   ],
   "source": [
    "predict_actual_error3 = pd.DataFrame({'Actual': y_test, 'Predicted': y_pred,  \"Error\": y_pred - y_test})[[\"Predicted\", \"Actual\", \"Error\"]]\n",
    "predict_actual_error3.head(10)"
   ]
  },
  {
   "cell_type": "code",
   "execution_count": 186,
   "metadata": {},
   "outputs": [
    {
     "name": "stdout",
     "output_type": "stream",
     "text": [
      "Mean Squared Error (MSE): 3.955008087291038e+16\n",
      "R-squared (R2 ): 0.2928037592771814\n"
     ]
    }
   ],
   "source": [
    "from sklearn.metrics import mean_squared_error, r2_score\n",
    "# predicted = regressor.predict(X_test)\n",
    "\n",
    "# Score the predictions with mse and r2\n",
    "mse = mean_squared_error(y_test, y_pred)\n",
    "r2 = r2_score(y_test, y_pred)\n",
    "\n",
    "print(f\"Mean Squared Error (MSE): {mse}\")\n",
    "print(f\"R-squared (R2 ): {r2}\")"
   ]
  },
  {
   "cell_type": "code",
   "execution_count": 187,
   "metadata": {},
   "outputs": [
    {
     "data": {
      "text/plain": [
       "0.2928037592771814"
      ]
     },
     "execution_count": 187,
     "metadata": {},
     "output_type": "execute_result"
    }
   ],
   "source": [
    "regressor.score(X_test_scaled, y_test)"
   ]
  },
  {
   "cell_type": "code",
   "execution_count": 188,
   "metadata": {},
   "outputs": [
    {
     "data": {
      "image/png": "[encoded data removed]",
      "text/plain": [
       "<Figure size 720x576 with 1 Axes>"
      ]
     },
     "metadata": {
      "needs_background": "light"
     },
     "output_type": "display_data"
    }
   ],
   "source": [
    "predicted_actual_sample = predict_actual_df.head(10)\n",
    "predicted_actual_sample.plot(kind='bar',figsize=(10,8))\n",
    "plt.grid(which='major', linestyle='-', linewidth='0.5', color='green')\n",
    "plt.grid(which='minor', linestyle=':', linewidth='0.5', color='black')\n",
    "plt.tick_params(axis='x',bottom=False,labelbottom=False)\n",
    "plt.savefig('wgi_predactplot_npt.png')\n",
    "plt.show()"
   ]
  },
  {
   "cell_type": "code",
   "execution_count": 192,
   "metadata": {},
   "outputs": [
    {
     "data": {
      "image/png": "[encoded data removed]",
      "text/plain": [
       "<Figure size 432x288 with 1 Axes>"
      ]
     },
     "metadata": {
      "needs_background": "light"
     },
     "output_type": "display_data"
    }
   ],
   "source": [
    "plt.scatter(y_pred,y_test)\n",
    "plt.ylabel('Observed')\n",
    "plt.xlabel('Predicted')\n",
    "plt.title(\"Predicted VS. Observed\")\n",
    "plt.savefig('wgi_obvVSpred_npt.png')"
   ]
  },
  {
   "cell_type": "code",
   "execution_count": 193,
   "metadata": {},
   "outputs": [
    {
     "data": {
      "image/png": "[encoded data removed]",
      "text/plain": [
       "<Figure size 432x288 with 1 Axes>"
      ]
     },
     "metadata": {
      "needs_background": "light"
     },
     "output_type": "display_data"
    }
   ],
   "source": [
    "# Residuals\n",
    "plt.scatter(y_pred, y_pred-y_test, c='purple')\n",
    "plt.hlines(y=0, xmin=y_pred.min(), xmax=y_pred.max())\n",
    "plt.ylabel('Standardized Residuals')\n",
    "plt.xlabel('Predicted')\n",
    "plt.title(\"Residuals\")\n",
    "plt.savefig('wgi_resid_npt.png')\n",
    "plt.show()"
   ]
  },
  {
   "cell_type": "markdown",
   "metadata": {},
   "source": [
    "# Model 4"
   ]
  },
  {
   "cell_type": "code",
   "execution_count": 87,
   "metadata": {},
   "outputs": [
    {
     "name": "stdout",
     "output_type": "stream",
     "text": [
      "(4148, 6) (4148,)\n"
     ]
    }
   ],
   "source": [
    "X = df[['budget_USD', 'genre_1', 'country_1','listing_1', 'listing_2', 'listing_3']].apply(LabelEncoder().fit_transform)\n",
    "y = df['metascore']\n",
    "# y = df['IMDB_rating'].values.reshape(1,-1)\n",
    "print(X.shape, y.shape)"
   ]
  },
  {
   "cell_type": "code",
   "execution_count": 88,
   "metadata": {},
   "outputs": [],
   "source": [
    "X_train, X_test, y_train, y_test = train_test_split(X, y, test_size=0.15, random_state=1)"
   ]
  },
  {
   "cell_type": "code",
   "execution_count": 89,
   "metadata": {},
   "outputs": [],
   "source": [
    "X_scaler = MinMaxScaler().fit(X_train)\n",
    "X_train_scaled = X_scaler.transform(X_train)\n",
    "X_test_scaled = X_scaler.transform(X_test)"
   ]
  },
  {
   "cell_type": "code",
   "execution_count": 90,
   "metadata": {},
   "outputs": [
    {
     "data": {
      "text/plain": [
       "LinearRegression(copy_X=True, fit_intercept=True, n_jobs=None, normalize=False)"
      ]
     },
     "execution_count": 90,
     "metadata": {},
     "output_type": "execute_result"
    }
   ],
   "source": [
    "regressor4 = LinearRegression()  \n",
    "regressor4.fit(X_train_scaled, y_train)"
   ]
  },
  {
   "cell_type": "code",
   "execution_count": 91,
   "metadata": {},
   "outputs": [
    {
     "data": {
      "text/html": [
       "<div>\n",
       "<style scoped>\n",
       "    .dataframe tbody tr th:only-of-type {\n",
       "        vertical-align: middle;\n",
       "    }\n",
       "\n",
       "    .dataframe tbody tr th {\n",
       "        vertical-align: top;\n",
       "    }\n",
       "\n",
       "    .dataframe thead th {\n",
       "        text-align: right;\n",
       "    }\n",
       "</style>\n",
       "<table border=\"1\" class=\"dataframe\">\n",
       "  <thead>\n",
       "    <tr style=\"text-align: right;\">\n",
       "      <th></th>\n",
       "      <th>Coefficient</th>\n",
       "    </tr>\n",
       "  </thead>\n",
       "  <tbody>\n",
       "    <tr>\n",
       "      <th>budget_USD</th>\n",
       "      <td>-20.525653</td>\n",
       "    </tr>\n",
       "    <tr>\n",
       "      <th>genre_1</th>\n",
       "      <td>0.015408</td>\n",
       "    </tr>\n",
       "    <tr>\n",
       "      <th>country_1</th>\n",
       "      <td>-5.327960</td>\n",
       "    </tr>\n",
       "    <tr>\n",
       "      <th>listing_1</th>\n",
       "      <td>-2.702053</td>\n",
       "    </tr>\n",
       "    <tr>\n",
       "      <th>listing_2</th>\n",
       "      <td>-4.229431</td>\n",
       "    </tr>\n",
       "    <tr>\n",
       "      <th>listing_3</th>\n",
       "      <td>-4.400357</td>\n",
       "    </tr>\n",
       "  </tbody>\n",
       "</table>\n",
       "</div>"
      ],
      "text/plain": [
       "            Coefficient\n",
       "budget_USD   -20.525653\n",
       "genre_1        0.015408\n",
       "country_1     -5.327960\n",
       "listing_1     -2.702053\n",
       "listing_2     -4.229431\n",
       "listing_3     -4.400357"
      ]
     },
     "execution_count": 91,
     "metadata": {},
     "output_type": "execute_result"
    }
   ],
   "source": [
    "coeff_df = pd.DataFrame(regressor4.coef_, X.columns, columns=['Coefficient'])  \n",
    "coeff_df"
   ]
  },
  {
   "cell_type": "code",
   "execution_count": 92,
   "metadata": {},
   "outputs": [],
   "source": [
    "y_pred4 = regressor4.predict(X_test_scaled)"
   ]
  },
  {
   "cell_type": "code",
   "execution_count": 93,
   "metadata": {},
   "outputs": [
    {
     "data": {
      "text/html": [
       "<div>\n",
       "<style scoped>\n",
       "    .dataframe tbody tr th:only-of-type {\n",
       "        vertical-align: middle;\n",
       "    }\n",
       "\n",
       "    .dataframe tbody tr th {\n",
       "        vertical-align: top;\n",
       "    }\n",
       "\n",
       "    .dataframe thead th {\n",
       "        text-align: right;\n",
       "    }\n",
       "</style>\n",
       "<table border=\"1\" class=\"dataframe\">\n",
       "  <thead>\n",
       "    <tr style=\"text-align: right;\">\n",
       "      <th></th>\n",
       "      <th>Actual</th>\n",
       "      <th>Predicted</th>\n",
       "    </tr>\n",
       "  </thead>\n",
       "  <tbody>\n",
       "    <tr>\n",
       "      <th>2572</th>\n",
       "      <td>55.0</td>\n",
       "      <td>57.866804</td>\n",
       "    </tr>\n",
       "    <tr>\n",
       "      <th>2527</th>\n",
       "      <td>63.0</td>\n",
       "      <td>53.115195</td>\n",
       "    </tr>\n",
       "    <tr>\n",
       "      <th>1497</th>\n",
       "      <td>64.0</td>\n",
       "      <td>57.634354</td>\n",
       "    </tr>\n",
       "    <tr>\n",
       "      <th>2740</th>\n",
       "      <td>65.0</td>\n",
       "      <td>52.341278</td>\n",
       "    </tr>\n",
       "    <tr>\n",
       "      <th>3776</th>\n",
       "      <td>77.0</td>\n",
       "      <td>63.352278</td>\n",
       "    </tr>\n",
       "    <tr>\n",
       "      <th>...</th>\n",
       "      <td>...</td>\n",
       "      <td>...</td>\n",
       "    </tr>\n",
       "    <tr>\n",
       "      <th>2597</th>\n",
       "      <td>74.0</td>\n",
       "      <td>56.009561</td>\n",
       "    </tr>\n",
       "    <tr>\n",
       "      <th>4062</th>\n",
       "      <td>46.0</td>\n",
       "      <td>53.786258</td>\n",
       "    </tr>\n",
       "    <tr>\n",
       "      <th>110</th>\n",
       "      <td>58.0</td>\n",
       "      <td>58.453636</td>\n",
       "    </tr>\n",
       "    <tr>\n",
       "      <th>2494</th>\n",
       "      <td>37.0</td>\n",
       "      <td>58.367050</td>\n",
       "    </tr>\n",
       "    <tr>\n",
       "      <th>671</th>\n",
       "      <td>78.0</td>\n",
       "      <td>59.853866</td>\n",
       "    </tr>\n",
       "  </tbody>\n",
       "</table>\n",
       "<p>623 rows × 2 columns</p>\n",
       "</div>"
      ],
      "text/plain": [
       "      Actual  Predicted\n",
       "2572    55.0  57.866804\n",
       "2527    63.0  53.115195\n",
       "1497    64.0  57.634354\n",
       "2740    65.0  52.341278\n",
       "3776    77.0  63.352278\n",
       "...      ...        ...\n",
       "2597    74.0  56.009561\n",
       "4062    46.0  53.786258\n",
       "110     58.0  58.453636\n",
       "2494    37.0  58.367050\n",
       "671     78.0  59.853866\n",
       "\n",
       "[623 rows x 2 columns]"
      ]
     },
     "execution_count": 93,
     "metadata": {},
     "output_type": "execute_result"
    }
   ],
   "source": [
    "predict_actual_df4 = pd.DataFrame({'Actual': y_test, 'Predicted': y_pred4})\n",
    "predict_actual_df4"
   ]
  },
  {
   "cell_type": "code",
   "execution_count": 94,
   "metadata": {},
   "outputs": [
    {
     "data": {
      "text/plain": [
       "0.031201660933121933"
      ]
     },
     "execution_count": 94,
     "metadata": {},
     "output_type": "execute_result"
    }
   ],
   "source": [
    "regressor4.score(X_test_scaled, y_test)"
   ]
  },
  {
   "cell_type": "code",
   "execution_count": 95,
   "metadata": {},
   "outputs": [
    {
     "name": "stdout",
     "output_type": "stream",
     "text": [
      "Mean Squared Error (MSE): 297.7427665164491\n",
      "R-squared (R2 ): 0.031201660933121933\n"
     ]
    }
   ],
   "source": [
    "mse = mean_squared_error(y_test, y_pred4)\n",
    "r2 = r2_score(y_test, y_pred4)\n",
    "\n",
    "print(f\"Mean Squared Error (MSE): {mse}\")\n",
    "print(f\"R-squared (R2 ): {r2}\")"
   ]
  },
  {
   "cell_type": "code",
   "execution_count": 97,
   "metadata": {},
   "outputs": [
    {
     "data": {
      "image/png": "[encoded data removed]",
      "text/plain": [
       "<Figure size 720x576 with 1 Axes>"
      ]
     },
     "metadata": {
      "needs_background": "light"
     },
     "output_type": "display_data"
    }
   ],
   "source": [
    "predicted_actual_sample = predict_actual_df4.head(10)\n",
    "predicted_actual_sample.plot(kind='bar',figsize=(10,8))\n",
    "plt.grid(which='major', linestyle='-', linewidth='0.5', color='green')\n",
    "plt.grid(which='minor', linestyle=':', linewidth='0.5', color='black')\n",
    "plt.show()"
   ]
  }
 ],
 "metadata": {
  "kernelspec": {
   "display_name": "Python 3",
   "language": "python",
   "name": "python3"
  },
  "language_info": {
   "codemirror_mode": {
    "name": "ipython",
    "version": 3
   },
   "file_extension": ".py",
   "mimetype": "text/x-python",
   "name": "python",
   "nbconvert_exporter": "python",
   "pygments_lexer": "ipython3",
   "version": "3.7.4"
  }
 },
 "nbformat": 4,
 "nbformat_minor": 2
}
