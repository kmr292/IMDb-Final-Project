{
 "cells": [
  {
   "cell_type": "code",
   "execution_count": 78,
   "metadata": {},
   "outputs": [],
   "source": [
    "from bs4 import BeautifulSoup as bs\n",
    "import requests  \n",
    "import time\n",
    "from splinter import Browser\n",
    "import pandas as pd "
   ]
  },
  {
   "cell_type": "code",
   "execution_count": 79,
   "metadata": {},
   "outputs": [],
   "source": [
    "executable_path = {\"executable_path\": \"/usr/local/bin/chromedriver\"}\n",
    "browser = Browser(\"chrome\", **executable_path, headless=False)"
   ]
  },
  {
   "cell_type": "code",
   "execution_count": 82,
   "metadata": {},
   "outputs": [
    {
     "ename": "AttributeError",
     "evalue": "ResultSet object has no attribute 'get_text'. You're probably treating a list of elements like a single element. Did you call find_all() when you meant to call find()?",
     "output_type": "error",
     "traceback": [
      "\u001b[0;31m---------------------------------------------------------------------------\u001b[0m",
      "\u001b[0;31mAttributeError\u001b[0m                            Traceback (most recent call last)",
      "\u001b[0;32m<ipython-input-82-05a9c54c2a39>\u001b[0m in \u001b[0;36m<module>\u001b[0;34m\u001b[0m\n\u001b[1;32m     13\u001b[0m \u001b[0;31m#     print(name)\u001b[0m\u001b[0;34m\u001b[0m\u001b[0;34m\u001b[0m\u001b[0;34m\u001b[0m\u001b[0m\n\u001b[1;32m     14\u001b[0m \u001b[0;31m# table\u001b[0m\u001b[0;34m\u001b[0m\u001b[0;34m\u001b[0m\u001b[0;34m\u001b[0m\u001b[0m\n\u001b[0;32m---> 15\u001b[0;31m \u001b[0mdiv\u001b[0m\u001b[0;34m.\u001b[0m\u001b[0mget_text\u001b[0m\u001b[0;34m(\u001b[0m\u001b[0;34m)\u001b[0m\u001b[0;34m\u001b[0m\u001b[0;34m\u001b[0m\u001b[0m\n\u001b[0m",
      "\u001b[0;32m/opt/anaconda3/envs/PythonData/lib/python3.7/site-packages/bs4/element.py\u001b[0m in \u001b[0;36m__getattr__\u001b[0;34m(self, key)\u001b[0m\n\u001b[1;32m   2079\u001b[0m         \u001b[0;34m\"\"\"Raise a helpful exception to explain a common code fix.\"\"\"\u001b[0m\u001b[0;34m\u001b[0m\u001b[0;34m\u001b[0m\u001b[0m\n\u001b[1;32m   2080\u001b[0m         raise AttributeError(\n\u001b[0;32m-> 2081\u001b[0;31m             \u001b[0;34m\"ResultSet object has no attribute '%s'. You're probably treating a list of elements like a single element. Did you call find_all() when you meant to call find()?\"\u001b[0m \u001b[0;34m%\u001b[0m \u001b[0mkey\u001b[0m\u001b[0;34m\u001b[0m\u001b[0;34m\u001b[0m\u001b[0m\n\u001b[0m\u001b[1;32m   2082\u001b[0m         )\n",
      "\u001b[0;31mAttributeError\u001b[0m: ResultSet object has no attribute 'get_text'. You're probably treating a list of elements like a single element. Did you call find_all() when you meant to call find()?"
     ]
    }
   ],
   "source": [
    "# url_Alist = 'https://www.the-numbers.com/box-office-star-records/worldwide/lifetime-acting/top-grossing-leading-stars'\n",
    "# browser.visit(url_Alist)\n",
    "# html_actors = browser.html\n",
    "# soup = bs(html_actors, 'lxml')\n",
    "# # for row in :\n",
    "# div = soup.find_all('td',attrs={\"class\":\"data\"})\n",
    "# # center = div.find('center')\n",
    "# # table = center.find('table')\n",
    "# # tbody = table.find('tbody')\n",
    "# # for row in tbody:\n",
    "# #     tr = row.find('tr')\n",
    "# #     name = tr.find('a')\n",
    "# #     print(name)\n",
    "# # table\n",
    "# div.get_text()"
   ]
  },
  {
   "cell_type": "code",
   "execution_count": 84,
   "metadata": {},
   "outputs": [
    {
     "name": "stdout",
     "output_type": "stream",
     "text": [
      "Robert Downey, Jr.\n"
     ]
    }
   ],
   "source": [
    "url_Alist = 'https://www.the-numbers.com/box-office-star-records/worldwide/lifetime-acting/top-grossing-leading-stars'\n",
    "browser.visit(url_Alist)\n",
    "html_actors = browser.html\n",
    "soup = bs(html_actors, 'lxml')\n",
    "tbody = soup.find_all('tbody')\n",
    "# tr = tbody.find('tr')\n",
    "# name = tr.find('a')\n",
    "\n",
    "# name\n",
    "for row in tbody:\n",
    "    tr = row.find('tr')\n",
    "    name = tr.find('a')\n",
    "\n",
    "\n",
    "print(name.get_text())\n",
    "\n",
    "# tbody"
   ]
  },
  {
   "cell_type": "code",
   "execution_count": 31,
   "metadata": {},
   "outputs": [
    {
     "data": {
      "text/plain": [
       "<tbody><tr><td>Best known as a <b><span itemprop=\"jobTitle\">Leading Actor</span></b> based on credits in that role in 29 films.</td></tr>\n",
       "<tr><td><b>Top films contributed to this record:</b>\n",
       "<a href=\"/movie/Avengers-Endgame-(2019)#tab=summary\">Avengers: Endgame</a> ($2,797,800,564 in <a href=\"/movie/records/worldwide/2019\">2019</a>),  <a href=\"/movie/Avengers-Infinity-War#tab=summary\">Avengers: Infinity War</a> ($2,048,359,754 in <a href=\"/movie/records/worldwide/2018\">2018</a>),  <a href=\"/movie/Avengers-The-(2012)#tab=summary\">The Avengers</a> ($1,518,812,988 in <a href=\"/movie/records/worldwide/2012\">2012</a>),  <a href=\"/movie/Avengers-Age-of-Ultron#tab=summary\">Avengers: Age of Ultron</a> ($1,403,013,963 in <a href=\"/movie/records/worldwide/2015\">2015</a>),  <a href=\"/movie/Iron-Man-3#tab=summary\">Iron Man 3</a> ($1,215,392,272 in <a href=\"/movie/records/worldwide/2013\">2013</a>),  <a href=\"/movie/Captain-America-Civil-War#tab=summary\">Captain America: Civil War</a> ($1,153,284,349 in <a href=\"/movie/records/worldwide/2016\">2016</a>),  <a href=\"/movie/Spider-Man-Homecoming#tab=summary\">Spider-Man: Homecoming</a> ($880,166,350 in <a href=\"/movie/records/worldwide/2017\">2017</a>),  <a href=\"/movie/Iron-Man-2#tab=summary\">Iron Man 2</a> ($621,156,389 in <a href=\"/movie/records/worldwide/2010\">2010</a>),  <a href=\"/movie/Iron-Man#tab=summary\">Iron Man</a> ($585,171,547 in <a href=\"/movie/records/worldwide/2008\">2008</a>),  <a href=\"/movie/Sherlock-Holmes-A-Game-of-Shadows#tab=summary\">Sherlock Holmes: A Game of Shadows</a> ($535,663,443 in <a href=\"/movie/records/worldwide/2011\">2011</a>)</td></tr>\n",
       "</tbody>"
      ]
     },
     "execution_count": 31,
     "metadata": {},
     "output_type": "execute_result"
    }
   ],
   "source": [
    "tbody2 = soup.find('tbody')\n",
    "tbody2"
   ]
  },
  {
   "cell_type": "code",
   "execution_count": null,
   "metadata": {},
   "outputs": [],
   "source": []
  }
 ],
 "metadata": {
  "kernelspec": {
   "display_name": "Python 3",
   "language": "python",
   "name": "python3"
  },
  "language_info": {
   "codemirror_mode": {
    "name": "ipython",
    "version": 3
   },
   "file_extension": ".py",
   "mimetype": "text/x-python",
   "name": "python",
   "nbconvert_exporter": "python",
   "pygments_lexer": "ipython3",
   "version": "3.7.4"
  }
 },
 "nbformat": 4,
 "nbformat_minor": 2
}
