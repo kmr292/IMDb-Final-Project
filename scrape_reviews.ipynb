{
 "cells": [
  {
   "cell_type": "code",
   "execution_count": 55,
   "metadata": {},
   "outputs": [],
   "source": [
    "from bs4 import BeautifulSoup as bs\n",
    "import requests  \n",
    "import time\n",
    "from splinter import Browser\n",
    "import pandas as pd "
   ]
  },
  {
   "cell_type": "code",
   "execution_count": 56,
   "metadata": {
    "scrolled": true
   },
   "outputs": [
    {
     "data": {
      "text/plain": [
       "0       https://www.imdb.com/title/tt0017136\n",
       "1       https://www.imdb.com/title/tt0021749\n",
       "2       https://www.imdb.com/title/tt0027977\n",
       "3       https://www.imdb.com/title/tt0029583\n",
       "4       https://www.imdb.com/title/tt0031381\n",
       "                        ...                 \n",
       "4176    https://www.imdb.com/title/tt8663516\n",
       "4177    https://www.imdb.com/title/tt8772262\n",
       "4178    https://www.imdb.com/title/tt9024106\n",
       "4179    https://www.imdb.com/title/tt9082020\n",
       "4180    https://www.imdb.com/title/tt9134216\n",
       "Name: imdb_title_id, Length: 4181, dtype: object"
      ]
     },
     "execution_count": 56,
     "metadata": {},
     "output_type": "execute_result"
    }
   ],
   "source": [
    "# List of urls\n",
    "scrape= pd.read_csv('IMDB_movies_and_ratings.csv')\n",
    "url_list = 'https://www.imdb.com/title/' + scrape['imdb_title_id']\n",
    "url_list #convert to dataframe"
   ]
  },
  {
   "cell_type": "code",
   "execution_count": 57,
   "metadata": {},
   "outputs": [
    {
     "data": {
      "text/html": [
       "<div>\n",
       "<style scoped>\n",
       "    .dataframe tbody tr th:only-of-type {\n",
       "        vertical-align: middle;\n",
       "    }\n",
       "\n",
       "    .dataframe tbody tr th {\n",
       "        vertical-align: top;\n",
       "    }\n",
       "\n",
       "    .dataframe thead th {\n",
       "        text-align: right;\n",
       "    }\n",
       "</style>\n",
       "<table border=\"1\" class=\"dataframe\">\n",
       "  <thead>\n",
       "    <tr style=\"text-align: right;\">\n",
       "      <th></th>\n",
       "      <th>imdburls</th>\n",
       "      <th>review</th>\n",
       "    </tr>\n",
       "  </thead>\n",
       "  <tbody>\n",
       "    <tr>\n",
       "      <th>0</th>\n",
       "      <td>https://www.imdb.com/title/tt0017136</td>\n",
       "      <td></td>\n",
       "    </tr>\n",
       "    <tr>\n",
       "      <th>1</th>\n",
       "      <td>https://www.imdb.com/title/tt0021749</td>\n",
       "      <td></td>\n",
       "    </tr>\n",
       "    <tr>\n",
       "      <th>2</th>\n",
       "      <td>https://www.imdb.com/title/tt0027977</td>\n",
       "      <td></td>\n",
       "    </tr>\n",
       "    <tr>\n",
       "      <th>3</th>\n",
       "      <td>https://www.imdb.com/title/tt0029583</td>\n",
       "      <td></td>\n",
       "    </tr>\n",
       "    <tr>\n",
       "      <th>4</th>\n",
       "      <td>https://www.imdb.com/title/tt0031381</td>\n",
       "      <td></td>\n",
       "    </tr>\n",
       "    <tr>\n",
       "      <th>...</th>\n",
       "      <td>...</td>\n",
       "      <td>...</td>\n",
       "    </tr>\n",
       "    <tr>\n",
       "      <th>4176</th>\n",
       "      <td>https://www.imdb.com/title/tt8663516</td>\n",
       "      <td></td>\n",
       "    </tr>\n",
       "    <tr>\n",
       "      <th>4177</th>\n",
       "      <td>https://www.imdb.com/title/tt8772262</td>\n",
       "      <td></td>\n",
       "    </tr>\n",
       "    <tr>\n",
       "      <th>4178</th>\n",
       "      <td>https://www.imdb.com/title/tt9024106</td>\n",
       "      <td></td>\n",
       "    </tr>\n",
       "    <tr>\n",
       "      <th>4179</th>\n",
       "      <td>https://www.imdb.com/title/tt9082020</td>\n",
       "      <td></td>\n",
       "    </tr>\n",
       "    <tr>\n",
       "      <th>4180</th>\n",
       "      <td>https://www.imdb.com/title/tt9134216</td>\n",
       "      <td></td>\n",
       "    </tr>\n",
       "  </tbody>\n",
       "</table>\n",
       "<p>4181 rows × 2 columns</p>\n",
       "</div>"
      ],
      "text/plain": [
       "                                  imdburls review\n",
       "0     https://www.imdb.com/title/tt0017136       \n",
       "1     https://www.imdb.com/title/tt0021749       \n",
       "2     https://www.imdb.com/title/tt0027977       \n",
       "3     https://www.imdb.com/title/tt0029583       \n",
       "4     https://www.imdb.com/title/tt0031381       \n",
       "...                                    ...    ...\n",
       "4176  https://www.imdb.com/title/tt8663516       \n",
       "4177  https://www.imdb.com/title/tt8772262       \n",
       "4178  https://www.imdb.com/title/tt9024106       \n",
       "4179  https://www.imdb.com/title/tt9082020       \n",
       "4180  https://www.imdb.com/title/tt9134216       \n",
       "\n",
       "[4181 rows x 2 columns]"
      ]
     },
     "execution_count": 57,
     "metadata": {},
     "output_type": "execute_result"
    }
   ],
   "source": [
    "# Creating dataframe\n",
    "df = pd.DataFrame()\n",
    "# Appending url_list to dataframe\n",
    "url_df = df.append(url_list, ignore_index=True)\n",
    "# Switching rows and columns\n",
    "url_df = url_df.transpose()\n",
    "# Renaming column\n",
    "url_df = url_df.rename(columns={0:'imdburls'})\n",
    "\n",
    "url_df['review'] = \"\"\n",
    "url_df"
   ]
  },
  {
   "cell_type": "code",
   "execution_count": 58,
   "metadata": {},
   "outputs": [],
   "source": [
    "executable_path = {\"executable_path\": \"/usr/local/bin/chromedriver\"}\n",
    "browser = Browser(\"chrome\", **executable_path, headless=False)"
   ]
  },
  {
   "cell_type": "code",
   "execution_count": 61,
   "metadata": {},
   "outputs": [],
   "source": [
    "# Scrape function\n",
    "def scrapeIMDB(url):\n",
    "    browser.visit(url)\n",
    "    time.sleep(5)\n",
    "    html_review = browser.html   \n",
    "    soup = bs(html_review, 'lxml')\n",
    "    reviews = soup.find('div',attrs={\"class\":\"user-comments\"})\n",
    "    span = reviews.find('span')\n",
    "    p = span.find('p').text\n",
    "    return p\n"
   ]
  },
  {
   "cell_type": "code",
   "execution_count": 62,
   "metadata": {},
   "outputs": [],
   "source": [
    "# Looping thru url rows\n",
    "for index, row in url_df.iterrows():\n",
    "    row['review'] = scrapeIMDB(row[0])"
   ]
  },
  {
   "cell_type": "code",
   "execution_count": 71,
   "metadata": {},
   "outputs": [
    {
     "data": {
      "text/html": [
       "<div>\n",
       "<style scoped>\n",
       "    .dataframe tbody tr th:only-of-type {\n",
       "        vertical-align: middle;\n",
       "    }\n",
       "\n",
       "    .dataframe tbody tr th {\n",
       "        vertical-align: top;\n",
       "    }\n",
       "\n",
       "    .dataframe thead th {\n",
       "        text-align: right;\n",
       "    }\n",
       "</style>\n",
       "<table border=\"1\" class=\"dataframe\">\n",
       "  <thead>\n",
       "    <tr style=\"text-align: right;\">\n",
       "      <th></th>\n",
       "      <th>imdburls</th>\n",
       "      <th>review</th>\n",
       "    </tr>\n",
       "  </thead>\n",
       "  <tbody>\n",
       "    <tr>\n",
       "      <th>0</th>\n",
       "      <td>https://www.imdb.com/title/tt0017136</td>\n",
       "      <td>Silent movies are not for everyone. Neither ar...</td>\n",
       "    </tr>\n",
       "    <tr>\n",
       "      <th>1</th>\n",
       "      <td>https://www.imdb.com/title/tt0021749</td>\n",
       "      <td>Charlie Chaplin's \"City Lights\" contains a ble...</td>\n",
       "    </tr>\n",
       "    <tr>\n",
       "      <th>2</th>\n",
       "      <td>https://www.imdb.com/title/tt0027977</td>\n",
       "      <td>I saw this as a child and my laughter at the f...</td>\n",
       "    </tr>\n",
       "    <tr>\n",
       "      <th>3</th>\n",
       "      <td>https://www.imdb.com/title/tt0029583</td>\n",
       "      <td>My mother kept an old clipping for years descr...</td>\n",
       "    </tr>\n",
       "    <tr>\n",
       "      <th>4</th>\n",
       "      <td>https://www.imdb.com/title/tt0031381</td>\n",
       "      <td>This film shows the best of the American cinem...</td>\n",
       "    </tr>\n",
       "    <tr>\n",
       "      <th>...</th>\n",
       "      <td>...</td>\n",
       "      <td>...</td>\n",
       "    </tr>\n",
       "    <tr>\n",
       "      <th>4176</th>\n",
       "      <td>https://www.imdb.com/title/tt8663516</td>\n",
       "      <td>I think this movie works best if you go into i...</td>\n",
       "    </tr>\n",
       "    <tr>\n",
       "      <th>4177</th>\n",
       "      <td>https://www.imdb.com/title/tt8772262</td>\n",
       "      <td>I'll start this off with a warning. If you're ...</td>\n",
       "    </tr>\n",
       "    <tr>\n",
       "      <th>4178</th>\n",
       "      <td>https://www.imdb.com/title/tt9024106</td>\n",
       "      <td>I dont understand why to start a movie there i...</td>\n",
       "    </tr>\n",
       "    <tr>\n",
       "      <th>4179</th>\n",
       "      <td>https://www.imdb.com/title/tt9082020</td>\n",
       "      <td>Two main roles are played well but the screenp...</td>\n",
       "    </tr>\n",
       "    <tr>\n",
       "      <th>4180</th>\n",
       "      <td>https://www.imdb.com/title/tt9134216</td>\n",
       "      <td>It's not as bad as all the reviews on here say...</td>\n",
       "    </tr>\n",
       "  </tbody>\n",
       "</table>\n",
       "<p>4181 rows × 2 columns</p>\n",
       "</div>"
      ],
      "text/plain": [
       "                                  imdburls  \\\n",
       "0     https://www.imdb.com/title/tt0017136   \n",
       "1     https://www.imdb.com/title/tt0021749   \n",
       "2     https://www.imdb.com/title/tt0027977   \n",
       "3     https://www.imdb.com/title/tt0029583   \n",
       "4     https://www.imdb.com/title/tt0031381   \n",
       "...                                    ...   \n",
       "4176  https://www.imdb.com/title/tt8663516   \n",
       "4177  https://www.imdb.com/title/tt8772262   \n",
       "4178  https://www.imdb.com/title/tt9024106   \n",
       "4179  https://www.imdb.com/title/tt9082020   \n",
       "4180  https://www.imdb.com/title/tt9134216   \n",
       "\n",
       "                                                 review  \n",
       "0     Silent movies are not for everyone. Neither ar...  \n",
       "1     Charlie Chaplin's \"City Lights\" contains a ble...  \n",
       "2     I saw this as a child and my laughter at the f...  \n",
       "3     My mother kept an old clipping for years descr...  \n",
       "4     This film shows the best of the American cinem...  \n",
       "...                                                 ...  \n",
       "4176  I think this movie works best if you go into i...  \n",
       "4177  I'll start this off with a warning. If you're ...  \n",
       "4178  I dont understand why to start a movie there i...  \n",
       "4179  Two main roles are played well but the screenp...  \n",
       "4180  It's not as bad as all the reviews on here say...  \n",
       "\n",
       "[4181 rows x 2 columns]"
      ]
     },
     "execution_count": 71,
     "metadata": {},
     "output_type": "execute_result"
    }
   ],
   "source": [
    "# Calling dataframe\n",
    "url_df"
   ]
  },
  {
   "cell_type": "code",
   "execution_count": 69,
   "metadata": {},
   "outputs": [],
   "source": [
    "# Export dataframe to csv file\n",
    "url_df.to_csv('IMDB_scraped_reviews.csv')"
   ]
  },
  {
   "cell_type": "code",
   "execution_count": 49,
   "metadata": {},
   "outputs": [
    {
     "data": {
      "text/plain": [
       "\"Silent movies are not for everyone. Neither are subtitles. Those brave enough to view a movie with no sound and words that are far and few between should definitely enjoy this silent masterpiece. One of the biggest productions of its time, Metropolis still holds its own when set design and special effects are compared. But what Metropolis really has is orginality. This German-Expressionist film had such originality in everything from its costumes to its views of a future (modern) city that its ideas can still be seen everywhere in modern sci-fi. Star Wars's C-3PO was based on Bridgette Helm's robot. Dark City and Brazil both have Metropolis look-a-like cities. This is a very good movie. It's too bad most movies don't have its originality.\""
      ]
     },
     "execution_count": 49,
     "metadata": {},
     "output_type": "execute_result"
    }
   ],
   "source": [
    "# Scraping from one url\n",
    "url = 'https://www.imdb.com/title/tt0017136'\n",
    "browser.visit(url)\n",
    "html_review = browser.html\n",
    "soup = bs(html_review, 'lxml')\n",
    "reviews = soup.find('div',attrs={\"class\":\"user-comments\"})\n",
    "span = reviews.find('span')\n",
    "p = span.find('p').text\n",
    "p"
   ]
  }
 ],
 "metadata": {
  "kernelspec": {
   "display_name": "Python 3",
   "language": "python",
   "name": "python3"
  },
  "language_info": {
   "codemirror_mode": {
    "name": "ipython",
    "version": 3
   },
   "file_extension": ".py",
   "mimetype": "text/x-python",
   "name": "python",
   "nbconvert_exporter": "python",
   "pygments_lexer": "ipython3",
   "version": "3.7.4"
  }
 },
 "nbformat": 4,
 "nbformat_minor": 2
}
