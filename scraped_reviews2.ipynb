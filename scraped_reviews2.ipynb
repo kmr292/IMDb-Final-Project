{
 "cells": [
  {
   "cell_type": "code",
   "execution_count": 10,
   "metadata": {},
   "outputs": [],
   "source": [
    "from bs4 import BeautifulSoup as bs\n",
    "import requests  \n",
    "import time\n",
    "from splinter import Browser\n",
    "import pandas as pd "
   ]
  },
  {
   "cell_type": "code",
   "execution_count": 11,
   "metadata": {},
   "outputs": [],
   "source": [
    "executable_path = {\"executable_path\": \"/usr/local/bin/chromedriver\"}\n",
    "browser = Browser(\"chrome\", **executable_path, headless=False)"
   ]
  },
  {
   "cell_type": "code",
   "execution_count": 28,
   "metadata": {},
   "outputs": [
    {
     "data": {
      "text/plain": [
       "'6'"
      ]
     },
     "execution_count": 28,
     "metadata": {},
     "output_type": "execute_result"
    }
   ],
   "source": [
    "# Scraping from one url\n",
    "url = 'https://www.imdb.com/title/tt6911608/reviews?ref_=tt_urv'\n",
    "browser.visit(url)\n",
    "html_review = browser.html\n",
    "soup = bs(html_review, 'lxml')\n",
    "reviews = soup.find('span',attrs={\"class\":\"rating-other-user-rating\"})\n",
    "span = reviews.find('span').text\n",
    "# p = span.find('p').text\n",
    "# p\n",
    "span"
   ]
  },
  {
   "cell_type": "code",
   "execution_count": 27,
   "metadata": {},
   "outputs": [
    {
     "name": "stdout",
     "output_type": "stream",
     "text": [
      "\n",
      "Mamma Mia was my favorite movie growing up. It came out when I was 10 and my friends and I learned all of all the songs. Going into this movie, I was expecting to absolutely love it. However, minutes within the first scene of the movie it was revealed that Donna had died. This really upset me because Donna made the entire first movie. And they didn't even bother to mention how she died. Next, we get to the flashback scenes of young Donna. This I love because the fashion is beautiful and Lily James is wonderful and has a good singing voice. I really like how she sang the original songs but the newer songs were just meh (I don't see people getting into them). At first it doesn't really make sense how she meets the three dads because during the flashback in the previous movie they look way different. The current time scenes were pretty boring and just revolves around everyone being depressed about Donna. They could have done so much more if they had kept her alive. The movie overall lacked much of a plot or direction and you knew exactly what was going to happen (other than maybe Cher arriving on a helicopter?). Ultimately, Mamma MIA, Here We Go Again cannot match the charm and authenticity that made me and everyone else adore the first movie but I still think it's worth a watch.\n",
      "\n"
     ]
    }
   ],
   "source": [
    "url = 'https://www.imdb.com/title/tt6911608/reviews?ref_=tt_urv'\n",
    "browser.visit(url)\n",
    "html_review = browser.html\n",
    "soup = bs(html_review, 'lxml')\n",
    "reviews = soup.find('div',attrs={\"class\":\"content\"}).text\n",
    "# text = reviews.find('div', attrs={\"class\":\"text show-more_control\"})\n",
    "# span = reviews.find('span')\n",
    "# p = span.find('p').text\n",
    "# p\n",
    "# span\n",
    "print(reviews)"
   ]
  },
  {
   "cell_type": "code",
   "execution_count": null,
   "metadata": {},
   "outputs": [],
   "source": [
    "https://www.imdb.com/title/tt6911608/reviews?ref_=tt_urv"
   ]
  }
 ],
 "metadata": {
  "kernelspec": {
   "display_name": "Python 3",
   "language": "python",
   "name": "python3"
  },
  "language_info": {
   "codemirror_mode": {
    "name": "ipython",
    "version": 3
   },
   "file_extension": ".py",
   "mimetype": "text/x-python",
   "name": "python",
   "nbconvert_exporter": "python",
   "pygments_lexer": "ipython3",
   "version": "3.7.4"
  }
 },
 "nbformat": 4,
 "nbformat_minor": 2
}
